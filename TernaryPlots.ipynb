{
 "cells": [
  {
   "cell_type": "code",
   "execution_count": 63,
   "metadata": {},
   "outputs": [],
   "source": [
    "import matplotlib.pyplot as plt\n",
    "import pandas as pd\n",
    "import os\n",
    "import plotly.graph_objects as go\n",
    "import plotly.express as px\n",
    "from IPython.display import Image\n",
    "import math\n",
    "from sklearn.preprocessing import MinMaxScaler\n",
    "import textwrap\n",
    "import seaborn as sns\n",
    "\n",
    "import matplotlib as mpl\n",
    "mpl.rcParams['figure.dpi'] = 300\n",
    "import numpy as np\n",
    "\n",
    "from matplotlib.patches import Patch\n",
    "from matplotlib.lines import Line2D\n",
    "import matplotlib.patheffects as pe\n",
    "from statistics import mean, median\n",
    "from adjustText import adjust_text\n",
    "\n",
    "from sklearn.cluster import KMeans\n",
    "import matplotlib.transforms\n",
    "import matplotlib.path\n",
    "from matplotlib.collections import LineCollection\n"
   ]
  },
  {
   "cell_type": "code",
   "execution_count": 64,
   "metadata": {},
   "outputs": [],
   "source": [
    "os.chdir('./data')\n",
    "df_raw = pd.read_csv('Stats.csv')\n",
    "image1 = Image(filename='img1.png', width=800, height=400)\n",
    "os.chdir('../')"
   ]
  },
  {
   "cell_type": "code",
   "execution_count": 65,
   "metadata": {},
   "outputs": [],
   "source": [
    "df_raw\n",
    "df_raw = df_raw[df_raw['Minutes Played'] >= 9*90]\n",
    "df_raw = df_raw[df_raw['Season'] == '2020-2021']\n",
    "df_raw = df_raw[df_raw['Competition'] == 'Premier League']\n",
    "df_raw = df_raw[(df_raw['Position'] == 'MFFW') | (df_raw['Position'] == 'FWMF')| (df_raw['Position'] == 'FW')]"
   ]
  },
  {
   "cell_type": "code",
   "execution_count": 66,
   "metadata": {},
   "outputs": [
    {
     "data": {
      "text/plain": [
       "['Unnamed: 0',\n",
       " 'Player',\n",
       " 'Nationality',\n",
       " 'Position',\n",
       " 'Team',\n",
       " 'Competition',\n",
       " 'Age',\n",
       " 'Minutes Played',\n",
       " 'Goals',\n",
       " 'Assists',\n",
       " 'Non-Penalty Goals',\n",
       " 'Penalties Scored',\n",
       " 'Penalties Attempted',\n",
       " 'Yellow Cards',\n",
       " 'Red Cards',\n",
       " 'Goal Contributions per 90',\n",
       " 'Non-Penalty Goals per 90',\n",
       " 'Non-Penalty Goal Contributions per 90',\n",
       " 'xG',\n",
       " 'Non-Penalty xG',\n",
       " 'xA',\n",
       " 'Non-Penalty xGC',\n",
       " 'xGC per 90',\n",
       " 'GK Goals Conceded per 90',\n",
       " 'GK Shots on Target Against',\n",
       " 'GK Saves',\n",
       " 'GK Save %',\n",
       " 'GK Wins',\n",
       " 'GK Draws',\n",
       " 'GK Losses',\n",
       " 'GK Clean Sheets',\n",
       " 'GK Clean Sheet %',\n",
       " 'GK Penalties Faced',\n",
       " 'GK Penalties Conceded',\n",
       " 'GK Penalties Saved',\n",
       " 'GK Penalties Off Target',\n",
       " 'GK Penalty Save %',\n",
       " 'GK Free Kicks Conceded',\n",
       " 'GK Corner Kicks Conceded',\n",
       " 'GK Own Goals Conceded',\n",
       " 'GK Post-Shot xG Against',\n",
       " 'GK Post-Shot xG Against per Shot on Target',\n",
       " 'GK Post-Shot xG Against PlusMinus per 90',\n",
       " 'GK Long Passes Completed',\n",
       " 'GK Long Passes Attempted',\n",
       " 'GK Long Pass Completion %',\n",
       " 'GK Passes Attempted',\n",
       " 'GK Throws Attempted',\n",
       " 'GK Long Pass Preference %',\n",
       " 'GK Average Pass Length (Yd)',\n",
       " 'GK Goal Kicks Attempted',\n",
       " 'GK Long Goal Kick Preference %',\n",
       " 'GK Average Goal Kick Length (Yd)',\n",
       " 'GK Crosses Faced',\n",
       " 'GK Crosses Stopped',\n",
       " 'GK Cross Stoppage %',\n",
       " 'GK Sweeping Actions per 90',\n",
       " 'GK Average Sweeping Action Distance From Goal (Yd)',\n",
       " 'Shot Accuracy %',\n",
       " 'Shots per 90',\n",
       " 'Shots on Target per 90',\n",
       " 'Goals per Shot',\n",
       " 'Goals per Shot on Target',\n",
       " 'Average Shot Distance From Goal (Yd)',\n",
       " 'Direct Free Kicks Attempted',\n",
       " 'Non-Penalty xG per Shot',\n",
       " 'Goals - xG',\n",
       " 'Non-Penalty Goals - Non-Penalty xG',\n",
       " 'Passes Completed',\n",
       " 'Passes Attempted',\n",
       " 'Pass Completion %',\n",
       " 'Total Pass Distance (Yd)',\n",
       " 'Progressive Pass Distance (Yd)',\n",
       " 'Short Passes Completed',\n",
       " 'Short Passes Attempted',\n",
       " 'Short Pass Completion %',\n",
       " 'Medium Passes Completed',\n",
       " 'Medium Passes Attempted',\n",
       " 'Medium Pass Completion %',\n",
       " 'Long Passes Completed',\n",
       " 'Long Passes Attempted',\n",
       " 'Long Pass Completion %',\n",
       " 'Assists - xA',\n",
       " 'Key Passes',\n",
       " 'Successful Passes into Final Third',\n",
       " 'Passes Completed into Opposition Box',\n",
       " 'Crosses Completed into Opposition Box',\n",
       " 'Progressive Passes',\n",
       " 'Live-Ball Passes',\n",
       " 'Dead-Ball Passes',\n",
       " 'Passes From Free Kicks',\n",
       " 'Through Balls Completed',\n",
       " 'Passes Completed Under Pressure',\n",
       " 'Flank Changes',\n",
       " 'Crosses Attempted',\n",
       " 'Corner Kicks Taken',\n",
       " 'In-Swinging Corner Kicks',\n",
       " 'Out-Swinging Corner Kicks',\n",
       " 'Straight Corner Kicks',\n",
       " 'Ground Passes',\n",
       " 'Low Passes',\n",
       " 'Lofted Passes',\n",
       " 'Left Footed Passes Attempted',\n",
       " 'Right Footed Passes Attempted',\n",
       " 'Headed Passes Attempted',\n",
       " 'Throw-Ins Taken',\n",
       " 'Other Body Part Passes Attempted',\n",
       " 'Passes Leading to Offside',\n",
       " 'Passes Out of Bounds',\n",
       " 'Passes Intercepted by Opposition',\n",
       " 'Passes Blocked by Opposition',\n",
       " 'Shot Creating Actions',\n",
       " 'Shot Creating Live-Ball Passes',\n",
       " 'Shot Creating Dead-Ball Passes',\n",
       " 'Shot Creating Dribbles',\n",
       " 'Shot Creating Shots',\n",
       " 'Shot Creating Fouls Won',\n",
       " 'Shot Creating Defensive Actions',\n",
       " 'Goal Creating Actions',\n",
       " 'Goal Creating Live-Ball Passes',\n",
       " 'Goal Creating Dead-Ball Passes',\n",
       " 'Goal Creating Dribbles',\n",
       " 'Goal Creating Shots',\n",
       " 'Goal Creating Fouls Won',\n",
       " 'Goal Creating Defensive Actions',\n",
       " 'Tackles Won',\n",
       " 'Ball-Winning Tackles',\n",
       " 'Tackles Won in the Defensive Third',\n",
       " 'Tackles Won in the Middle Third',\n",
       " 'Tackles Won in the Final Third',\n",
       " 'Tackles Won Against Dribblers',\n",
       " 'Tackles Attempted Against Dribblers',\n",
       " 'Tackles Won Against Dribblers %',\n",
       " 'Dribbled Past',\n",
       " 'Pressures',\n",
       " 'Successful Pressures',\n",
       " 'Pressure Success %',\n",
       " 'Pressures in the Defensive Third',\n",
       " 'Pressures in the Middle Third',\n",
       " 'Pressures in the Final Third',\n",
       " 'Blocks',\n",
       " 'Blocked Shots',\n",
       " 'Blocked Shots on Target',\n",
       " 'Blocked Passes',\n",
       " 'Interceptions',\n",
       " 'Tackles + Interceptions',\n",
       " 'Clearances',\n",
       " 'Mistakes Leading to Shot',\n",
       " 'Touches',\n",
       " 'Touches In Own Box',\n",
       " 'Touches in the Defensive Third',\n",
       " 'Touches in the Middle Third',\n",
       " 'Touches in the Final Third',\n",
       " 'Touches In Opposition Box',\n",
       " 'Live-Ball Touches',\n",
       " 'Dribbles Completed',\n",
       " 'Dribbles Attempted',\n",
       " 'Dribble Completion %',\n",
       " 'Take-Ons',\n",
       " 'Nutmegs',\n",
       " 'Carries',\n",
       " 'Total Carry Distance (Yd)',\n",
       " 'Progressive Carry Distance (Yd)',\n",
       " 'Progressive Carries',\n",
       " 'Carries into the Final Third',\n",
       " 'Carries into Opposition Box',\n",
       " 'Unsuccessful Touches',\n",
       " 'Dispossessed',\n",
       " 'Passes Targeted',\n",
       " 'Passes Received',\n",
       " 'Pass Reception %',\n",
       " 'Progressive Passes Received',\n",
       " 'Points Per Match',\n",
       " '2nd Yellow Cards',\n",
       " 'Fouls Committed',\n",
       " 'Fouls Won',\n",
       " 'Offsides',\n",
       " 'Penalties Won',\n",
       " 'Penalties Given Away',\n",
       " 'Own Goals',\n",
       " 'Recoveries',\n",
       " 'Aerials Won',\n",
       " 'Aerials Lost',\n",
       " 'Aerial Win %',\n",
       " 'Tackles Attempted',\n",
       " 'Tackle Success %',\n",
       " 'Turnovers',\n",
       " 'Shots per Touch',\n",
       " 'Share of Touches in the Final Third %',\n",
       " 'Deep Progressions',\n",
       " 'Long Pass Preference %',\n",
       " 'Season',\n",
       " 'Player_ID',\n",
       " 'Player_ID_Full']"
      ]
     },
     "execution_count": 66,
     "metadata": {},
     "output_type": "execute_result"
    }
   ],
   "source": [
    "df_raw.columns.to_list()"
   ]
  },
  {
   "cell_type": "code",
   "execution_count": 67,
   "metadata": {},
   "outputs": [],
   "source": [
    "df = pd.DataFrame(df_raw['Player_ID_Full'])\n",
    "\n",
    "A_title = 'Progressive Passes + Carries'\n",
    "B_title = 'Non-Penalty Goal Contributions per 90'\n",
    "C_title = 'Tackles + Interceptions'\n",
    "\n",
    "df['B'] = df_raw[B_title]\n",
    "df['A'] = df_raw['Progressive Passes'] + df_raw['Progressive Carries'] #df_raw[A_title] \n",
    "df['C'] = df_raw[C_title]\n",
    "\n",
    "df.set_index('Player_ID_Full', inplace=True)\n"
   ]
  },
  {
   "cell_type": "code",
   "execution_count": 68,
   "metadata": {},
   "outputs": [
    {
     "data": {
      "text/html": [
       "<div>\n",
       "<style scoped>\n",
       "    .dataframe tbody tr th:only-of-type {\n",
       "        vertical-align: middle;\n",
       "    }\n",
       "\n",
       "    .dataframe tbody tr th {\n",
       "        vertical-align: top;\n",
       "    }\n",
       "\n",
       "    .dataframe thead th {\n",
       "        text-align: right;\n",
       "    }\n",
       "</style>\n",
       "<table border=\"1\" class=\"dataframe\">\n",
       "  <thead>\n",
       "    <tr style=\"text-align: right;\">\n",
       "      <th></th>\n",
       "      <th>Unnamed: 0</th>\n",
       "      <th>Player</th>\n",
       "      <th>Nationality</th>\n",
       "      <th>Position</th>\n",
       "      <th>Team</th>\n",
       "      <th>Competition</th>\n",
       "      <th>Age</th>\n",
       "      <th>Minutes Played</th>\n",
       "      <th>Goals</th>\n",
       "      <th>Assists</th>\n",
       "      <th>...</th>\n",
       "      <th>Tackles Attempted</th>\n",
       "      <th>Tackle Success %</th>\n",
       "      <th>Turnovers</th>\n",
       "      <th>Shots per Touch</th>\n",
       "      <th>Share of Touches in the Final Third %</th>\n",
       "      <th>Deep Progressions</th>\n",
       "      <th>Long Pass Preference %</th>\n",
       "      <th>Season</th>\n",
       "      <th>Player_ID</th>\n",
       "      <th>Player_ID_Full</th>\n",
       "    </tr>\n",
       "  </thead>\n",
       "  <tbody>\n",
       "    <tr>\n",
       "      <th>6046</th>\n",
       "      <td>8089</td>\n",
       "      <td>Tammy Abraham</td>\n",
       "      <td>ENG</td>\n",
       "      <td>FW</td>\n",
       "      <td>Chelsea</td>\n",
       "      <td>Premier League</td>\n",
       "      <td>22</td>\n",
       "      <td>1040</td>\n",
       "      <td>0.52</td>\n",
       "      <td>0.09</td>\n",
       "      <td>...</td>\n",
       "      <td>1.12</td>\n",
       "      <td>61.607143</td>\n",
       "      <td>4.48</td>\n",
       "      <td>0.089902</td>\n",
       "      <td>44.479005</td>\n",
       "      <td>1.691291</td>\n",
       "      <td>7.583774</td>\n",
       "      <td>2020-2021</td>\n",
       "      <td>Tammy Abraham_Chelsea_2020-2021</td>\n",
       "      <td>Tammy Abraham_ENG_FW_Chelsea_Premier League_22...</td>\n",
       "    </tr>\n",
       "    <tr>\n",
       "      <th>6050</th>\n",
       "      <td>8095</td>\n",
       "      <td>Che Adams</td>\n",
       "      <td>SCO</td>\n",
       "      <td>FW</td>\n",
       "      <td>Southampton</td>\n",
       "      <td>Premier League</td>\n",
       "      <td>24</td>\n",
       "      <td>2667</td>\n",
       "      <td>0.30</td>\n",
       "      <td>0.17</td>\n",
       "      <td>...</td>\n",
       "      <td>1.58</td>\n",
       "      <td>63.924051</td>\n",
       "      <td>4.91</td>\n",
       "      <td>0.057273</td>\n",
       "      <td>47.550845</td>\n",
       "      <td>2.219427</td>\n",
       "      <td>13.075701</td>\n",
       "      <td>2020-2021</td>\n",
       "      <td>Che Adams_Southampton_2020-2021</td>\n",
       "      <td>Che Adams_SCO_FW_Southampton_Premier League_24...</td>\n",
       "    </tr>\n",
       "    <tr>\n",
       "      <th>6095</th>\n",
       "      <td>8154</td>\n",
       "      <td>Miguel Almirón</td>\n",
       "      <td>PAR</td>\n",
       "      <td>MFFW</td>\n",
       "      <td>Newcastle Utd</td>\n",
       "      <td>Premier League</td>\n",
       "      <td>26</td>\n",
       "      <td>2429</td>\n",
       "      <td>0.15</td>\n",
       "      <td>0.04</td>\n",
       "      <td>...</td>\n",
       "      <td>3.26</td>\n",
       "      <td>54.601227</td>\n",
       "      <td>4.15</td>\n",
       "      <td>0.027982</td>\n",
       "      <td>38.016529</td>\n",
       "      <td>4.685620</td>\n",
       "      <td>13.315755</td>\n",
       "      <td>2020-2021</td>\n",
       "      <td>Miguel Almirón_Newcastle Utd_2020-2021</td>\n",
       "      <td>Miguel Almirón_PAR_MFFW_Newcastle Utd_Premier ...</td>\n",
       "    </tr>\n",
       "    <tr>\n",
       "      <th>6118</th>\n",
       "      <td>8190</td>\n",
       "      <td>Michail Antonio</td>\n",
       "      <td>JAM</td>\n",
       "      <td>FW</td>\n",
       "      <td>West Ham</td>\n",
       "      <td>Premier League</td>\n",
       "      <td>30</td>\n",
       "      <td>1974</td>\n",
       "      <td>0.46</td>\n",
       "      <td>0.23</td>\n",
       "      <td>...</td>\n",
       "      <td>0.96</td>\n",
       "      <td>66.666667</td>\n",
       "      <td>7.67</td>\n",
       "      <td>0.078495</td>\n",
       "      <td>54.832248</td>\n",
       "      <td>3.688893</td>\n",
       "      <td>11.680631</td>\n",
       "      <td>2020-2021</td>\n",
       "      <td>Michail Antonio_West Ham_2020-2021</td>\n",
       "      <td>Michail Antonio_JAM_FW_West Ham_Premier League...</td>\n",
       "    </tr>\n",
       "    <tr>\n",
       "      <th>6140</th>\n",
       "      <td>8222</td>\n",
       "      <td>Pierre-Emerick Aubameyang</td>\n",
       "      <td>GAB</td>\n",
       "      <td>FW</td>\n",
       "      <td>Arsenal</td>\n",
       "      <td>Premier League</td>\n",
       "      <td>31</td>\n",
       "      <td>2332</td>\n",
       "      <td>0.39</td>\n",
       "      <td>0.12</td>\n",
       "      <td>...</td>\n",
       "      <td>1.28</td>\n",
       "      <td>51.562500</td>\n",
       "      <td>2.59</td>\n",
       "      <td>0.061891</td>\n",
       "      <td>48.977395</td>\n",
       "      <td>2.265296</td>\n",
       "      <td>7.924377</td>\n",
       "      <td>2020-2021</td>\n",
       "      <td>Pierre-Emerick Aubameyang_Arsenal_2020-2021</td>\n",
       "      <td>Pierre-Emerick Aubameyang_GAB_FW_Arsenal_Premi...</td>\n",
       "    </tr>\n",
       "    <tr>\n",
       "      <th>...</th>\n",
       "      <td>...</td>\n",
       "      <td>...</td>\n",
       "      <td>...</td>\n",
       "      <td>...</td>\n",
       "      <td>...</td>\n",
       "      <td>...</td>\n",
       "      <td>...</td>\n",
       "      <td>...</td>\n",
       "      <td>...</td>\n",
       "      <td>...</td>\n",
       "      <td>...</td>\n",
       "      <td>...</td>\n",
       "      <td>...</td>\n",
       "      <td>...</td>\n",
       "      <td>...</td>\n",
       "      <td>...</td>\n",
       "      <td>...</td>\n",
       "      <td>...</td>\n",
       "      <td>...</td>\n",
       "      <td>...</td>\n",
       "      <td>...</td>\n",
       "    </tr>\n",
       "    <tr>\n",
       "      <th>8035</th>\n",
       "      <td>10830</td>\n",
       "      <td>Willian</td>\n",
       "      <td>BRA</td>\n",
       "      <td>FWMF</td>\n",
       "      <td>Arsenal</td>\n",
       "      <td>Premier League</td>\n",
       "      <td>31</td>\n",
       "      <td>1406</td>\n",
       "      <td>0.06</td>\n",
       "      <td>0.32</td>\n",
       "      <td>...</td>\n",
       "      <td>2.18</td>\n",
       "      <td>47.247706</td>\n",
       "      <td>2.95</td>\n",
       "      <td>0.021477</td>\n",
       "      <td>52.070263</td>\n",
       "      <td>5.270941</td>\n",
       "      <td>19.603078</td>\n",
       "      <td>2020-2021</td>\n",
       "      <td>Willian_Arsenal_2020-2021</td>\n",
       "      <td>Willian_BRA_FWMF_Arsenal_Premier League_31_202...</td>\n",
       "    </tr>\n",
       "    <tr>\n",
       "      <th>8037</th>\n",
       "      <td>10833</td>\n",
       "      <td>Callum Wilson</td>\n",
       "      <td>ENG</td>\n",
       "      <td>FW</td>\n",
       "      <td>Newcastle Utd</td>\n",
       "      <td>Premier League</td>\n",
       "      <td>28</td>\n",
       "      <td>2084</td>\n",
       "      <td>0.52</td>\n",
       "      <td>0.22</td>\n",
       "      <td>...</td>\n",
       "      <td>0.95</td>\n",
       "      <td>58.947368</td>\n",
       "      <td>6.07</td>\n",
       "      <td>0.069343</td>\n",
       "      <td>49.474754</td>\n",
       "      <td>2.208434</td>\n",
       "      <td>4.392387</td>\n",
       "      <td>2020-2021</td>\n",
       "      <td>Callum Wilson_Newcastle Utd_2020-2021</td>\n",
       "      <td>Callum Wilson_ENG_FW_Newcastle Utd_Premier Lea...</td>\n",
       "    </tr>\n",
       "    <tr>\n",
       "      <th>8045</th>\n",
       "      <td>10843</td>\n",
       "      <td>Chris Wood</td>\n",
       "      <td>NZL</td>\n",
       "      <td>FW</td>\n",
       "      <td>Burnley</td>\n",
       "      <td>Premier League</td>\n",
       "      <td>28</td>\n",
       "      <td>2741</td>\n",
       "      <td>0.39</td>\n",
       "      <td>0.10</td>\n",
       "      <td>...</td>\n",
       "      <td>0.92</td>\n",
       "      <td>60.869565</td>\n",
       "      <td>4.85</td>\n",
       "      <td>0.069401</td>\n",
       "      <td>52.743902</td>\n",
       "      <td>1.506799</td>\n",
       "      <td>3.869969</td>\n",
       "      <td>2020-2021</td>\n",
       "      <td>Chris Wood_Burnley_2020-2021</td>\n",
       "      <td>Chris Wood_NZL_FW_Burnley_Premier League_28_20...</td>\n",
       "    </tr>\n",
       "    <tr>\n",
       "      <th>8061</th>\n",
       "      <td>10866</td>\n",
       "      <td>Wilfried Zaha</td>\n",
       "      <td>CIV</td>\n",
       "      <td>FW</td>\n",
       "      <td>Crystal Palace</td>\n",
       "      <td>Premier League</td>\n",
       "      <td>27</td>\n",
       "      <td>2612</td>\n",
       "      <td>0.38</td>\n",
       "      <td>0.07</td>\n",
       "      <td>...</td>\n",
       "      <td>1.89</td>\n",
       "      <td>61.904762</td>\n",
       "      <td>8.80</td>\n",
       "      <td>0.047100</td>\n",
       "      <td>51.953537</td>\n",
       "      <td>3.884657</td>\n",
       "      <td>9.674797</td>\n",
       "      <td>2020-2021</td>\n",
       "      <td>Wilfried Zaha_Crystal Palace_2020-2021</td>\n",
       "      <td>Wilfried Zaha_CIV_FW_Crystal Palace_Premier Le...</td>\n",
       "    </tr>\n",
       "    <tr>\n",
       "      <th>8079</th>\n",
       "      <td>10890</td>\n",
       "      <td>Hakim Ziyech</td>\n",
       "      <td>MAR</td>\n",
       "      <td>FWMF</td>\n",
       "      <td>Chelsea</td>\n",
       "      <td>Premier League</td>\n",
       "      <td>27</td>\n",
       "      <td>1172</td>\n",
       "      <td>0.15</td>\n",
       "      <td>0.23</td>\n",
       "      <td>...</td>\n",
       "      <td>1.92</td>\n",
       "      <td>40.104167</td>\n",
       "      <td>4.62</td>\n",
       "      <td>0.040030</td>\n",
       "      <td>48.355077</td>\n",
       "      <td>5.977300</td>\n",
       "      <td>20.262664</td>\n",
       "      <td>2020-2021</td>\n",
       "      <td>Hakim Ziyech_Chelsea_2020-2021</td>\n",
       "      <td>Hakim Ziyech_MAR_FWMF_Chelsea_Premier League_2...</td>\n",
       "    </tr>\n",
       "  </tbody>\n",
       "</table>\n",
       "<p>98 rows × 194 columns</p>\n",
       "</div>"
      ],
      "text/plain": [
       "      Unnamed: 0                     Player Nationality Position  \\\n",
       "6046        8089              Tammy Abraham         ENG       FW   \n",
       "6050        8095                  Che Adams         SCO       FW   \n",
       "6095        8154             Miguel Almirón         PAR     MFFW   \n",
       "6118        8190            Michail Antonio         JAM       FW   \n",
       "6140        8222  Pierre-Emerick Aubameyang         GAB       FW   \n",
       "...          ...                        ...         ...      ...   \n",
       "8035       10830                    Willian         BRA     FWMF   \n",
       "8037       10833              Callum Wilson         ENG       FW   \n",
       "8045       10843                 Chris Wood         NZL       FW   \n",
       "8061       10866              Wilfried Zaha         CIV       FW   \n",
       "8079       10890               Hakim Ziyech         MAR     FWMF   \n",
       "\n",
       "                Team     Competition  Age  Minutes Played  Goals  Assists  \\\n",
       "6046         Chelsea  Premier League   22            1040   0.52     0.09   \n",
       "6050     Southampton  Premier League   24            2667   0.30     0.17   \n",
       "6095   Newcastle Utd  Premier League   26            2429   0.15     0.04   \n",
       "6118        West Ham  Premier League   30            1974   0.46     0.23   \n",
       "6140         Arsenal  Premier League   31            2332   0.39     0.12   \n",
       "...              ...             ...  ...             ...    ...      ...   \n",
       "8035         Arsenal  Premier League   31            1406   0.06     0.32   \n",
       "8037   Newcastle Utd  Premier League   28            2084   0.52     0.22   \n",
       "8045         Burnley  Premier League   28            2741   0.39     0.10   \n",
       "8061  Crystal Palace  Premier League   27            2612   0.38     0.07   \n",
       "8079         Chelsea  Premier League   27            1172   0.15     0.23   \n",
       "\n",
       "      ...  Tackles Attempted  Tackle Success %  Turnovers  Shots per Touch  \\\n",
       "6046  ...               1.12         61.607143       4.48         0.089902   \n",
       "6050  ...               1.58         63.924051       4.91         0.057273   \n",
       "6095  ...               3.26         54.601227       4.15         0.027982   \n",
       "6118  ...               0.96         66.666667       7.67         0.078495   \n",
       "6140  ...               1.28         51.562500       2.59         0.061891   \n",
       "...   ...                ...               ...        ...              ...   \n",
       "8035  ...               2.18         47.247706       2.95         0.021477   \n",
       "8037  ...               0.95         58.947368       6.07         0.069343   \n",
       "8045  ...               0.92         60.869565       4.85         0.069401   \n",
       "8061  ...               1.89         61.904762       8.80         0.047100   \n",
       "8079  ...               1.92         40.104167       4.62         0.040030   \n",
       "\n",
       "      Share of Touches in the Final Third %  Deep Progressions  \\\n",
       "6046                              44.479005           1.691291   \n",
       "6050                              47.550845           2.219427   \n",
       "6095                              38.016529           4.685620   \n",
       "6118                              54.832248           3.688893   \n",
       "6140                              48.977395           2.265296   \n",
       "...                                     ...                ...   \n",
       "8035                              52.070263           5.270941   \n",
       "8037                              49.474754           2.208434   \n",
       "8045                              52.743902           1.506799   \n",
       "8061                              51.953537           3.884657   \n",
       "8079                              48.355077           5.977300   \n",
       "\n",
       "      Long Pass Preference %     Season  \\\n",
       "6046                7.583774  2020-2021   \n",
       "6050               13.075701  2020-2021   \n",
       "6095               13.315755  2020-2021   \n",
       "6118               11.680631  2020-2021   \n",
       "6140                7.924377  2020-2021   \n",
       "...                      ...        ...   \n",
       "8035               19.603078  2020-2021   \n",
       "8037                4.392387  2020-2021   \n",
       "8045                3.869969  2020-2021   \n",
       "8061                9.674797  2020-2021   \n",
       "8079               20.262664  2020-2021   \n",
       "\n",
       "                                        Player_ID  \\\n",
       "6046              Tammy Abraham_Chelsea_2020-2021   \n",
       "6050              Che Adams_Southampton_2020-2021   \n",
       "6095       Miguel Almirón_Newcastle Utd_2020-2021   \n",
       "6118           Michail Antonio_West Ham_2020-2021   \n",
       "6140  Pierre-Emerick Aubameyang_Arsenal_2020-2021   \n",
       "...                                           ...   \n",
       "8035                    Willian_Arsenal_2020-2021   \n",
       "8037        Callum Wilson_Newcastle Utd_2020-2021   \n",
       "8045                 Chris Wood_Burnley_2020-2021   \n",
       "8061       Wilfried Zaha_Crystal Palace_2020-2021   \n",
       "8079               Hakim Ziyech_Chelsea_2020-2021   \n",
       "\n",
       "                                         Player_ID_Full  \n",
       "6046  Tammy Abraham_ENG_FW_Chelsea_Premier League_22...  \n",
       "6050  Che Adams_SCO_FW_Southampton_Premier League_24...  \n",
       "6095  Miguel Almirón_PAR_MFFW_Newcastle Utd_Premier ...  \n",
       "6118  Michail Antonio_JAM_FW_West Ham_Premier League...  \n",
       "6140  Pierre-Emerick Aubameyang_GAB_FW_Arsenal_Premi...  \n",
       "...                                                 ...  \n",
       "8035  Willian_BRA_FWMF_Arsenal_Premier League_31_202...  \n",
       "8037  Callum Wilson_ENG_FW_Newcastle Utd_Premier Lea...  \n",
       "8045  Chris Wood_NZL_FW_Burnley_Premier League_28_20...  \n",
       "8061  Wilfried Zaha_CIV_FW_Crystal Palace_Premier Le...  \n",
       "8079  Hakim Ziyech_MAR_FWMF_Chelsea_Premier League_2...  \n",
       "\n",
       "[98 rows x 194 columns]"
      ]
     },
     "execution_count": 68,
     "metadata": {},
     "output_type": "execute_result"
    }
   ],
   "source": [
    "df_raw"
   ]
  },
  {
   "cell_type": "code",
   "execution_count": 69,
   "metadata": {},
   "outputs": [],
   "source": [
    "scaler = MinMaxScaler()\n",
    "df_scaled = scaler.fit_transform(df)\n",
    "df_scaled = pd.DataFrame(df_scaled, columns=df.columns)\n",
    "df_scaled.index = df.index\n",
    "df_scaled.reset_index(inplace= True)\n",
    "df_scaled['Pos'] = df_scaled['Player_ID_Full'].str.split('_', expand = True)[2]\n",
    "df_scaled['Player'] = df_scaled['Player_ID_Full'].str.split('_', expand = True)[0]\n",
    "df = df_scaled"
   ]
  },
  {
   "cell_type": "code",
   "execution_count": 70,
   "metadata": {},
   "outputs": [],
   "source": [
    "# Conversion to Barycentric Coordinates and Quadratic Normalization\n",
    "df['Total Rank'] = (df['A'] + df['B'] + df['C'])\n",
    "df['A_bary'] = (df['A']**2) / (df['A']**2 + df['B']**2 + df['C']**2)\n",
    "df['B_bary'] = (df['B']**2) / (df['A']**2 + df['B']**2 + df['C']**2)\n",
    "df['C_bary'] = (df['C']**2) / (df['A']**2 + df['B']**2 + df['C']**2)\n",
    "#df['Sum'] = df['A_bary'] + df['B_bary'] + df['C_bary']\n",
    "\n",
    "df['A'] = df['A_bary']\n",
    "df['B'] = df['B_bary']\n",
    "df['C'] = df['C_bary']"
   ]
  },
  {
   "cell_type": "code",
   "execution_count": 71,
   "metadata": {},
   "outputs": [
    {
     "data": {
      "image/png": "[encoded data removed]",
      "text/plain": [
       "<IPython.core.display.Image object>"
      ]
     },
     "execution_count": 71,
     "metadata": {
      "image/png": {
       "height": 400,
       "width": 800
      }
     },
     "output_type": "execute_result"
    }
   ],
   "source": [
    "image1"
   ]
  },
  {
   "cell_type": "code",
   "execution_count": 72,
   "metadata": {},
   "outputs": [],
   "source": [
    "# https://mathworld.wolfram.com/TernaryDiagram.html\n",
    "df['XT'] = (0.5* ((df['A'] + 2 * df['B']) / (df['A'] + df['B'] + df['C'])))\n",
    "df['YT'] = ((math.sqrt(3)/2) * ((df['A']) / (df['A'] + df['B'] + df['C'])))\n",
    "\n",
    "df = df.sort_values(by=['Total Rank'], ascending = False)\n",
    "df = df.head(100)"
   ]
  },
  {
   "cell_type": "code",
   "execution_count": 73,
   "metadata": {},
   "outputs": [
    {
     "name": "stdout",
     "output_type": "stream",
     "text": [
      "['#4c02a1', '#7e03a8', '#aa2395', '#cc4778', '#e66c5c', '#f89540', '#fdc527']\n"
     ]
    }
   ],
   "source": [
    "palette = sns.color_palette(\"plasma\", 7).as_hex()\n",
    "print(palette)"
   ]
  },
  {
   "cell_type": "code",
   "execution_count": 74,
   "metadata": {},
   "outputs": [
    {
     "name": "stderr",
     "output_type": "stream",
     "text": [
      "/Users/msuatgunerli/opt/anaconda3/lib/python3.9/site-packages/sklearn/base.py:443: UserWarning:\n",
      "\n",
      "X has feature names, but KMeans was fitted without feature names\n",
      "\n"
     ]
    }
   ],
   "source": [
    "manual_centroids = [[0.5, (math.sqrt(3)/2)], [0, 0], [1, 0], [0.5, (math.sqrt(3)/6)], [0.75, (math.sqrt(3)/4)], [0.25, (math.sqrt(3)/4)], [0.5, 0]]\n",
    "\n",
    "kmeans = KMeans(n_clusters=7, random_state=0)\n",
    "kmeans.fit(manual_centroids)\n",
    "df['cluster'] = kmeans.predict(df[['XT', 'YT']])\n",
    "# get centroids\n",
    "centroids = kmeans.cluster_centers_\n",
    "cen_x = [i[0] for i in centroids]\n",
    "cen_y = [i[1] for i in centroids]\n",
    "\n",
    "## add to df\n",
    "df['cen_x'] = df.cluster.map({0: cen_x[0], 1: cen_x[1], 2: cen_x[2], 3: cen_x[3], 4: cen_x[4], 5: cen_x[5], 6: cen_x[6]})\n",
    "df['cen_y'] = df.cluster.map({0: cen_y[0], 1: cen_y[1], 2: cen_y[2], 3: cen_y[3], 4: cen_y[4], 5: cen_y[5], 6: cen_y[6]})\n",
    "\n",
    "# define and map colors\n",
    "df['color'] = df.cluster.map({0: palette[0], 1: palette[1], 2: palette[2], 3: palette[3], 4: palette[4], 5: palette[5], 6: palette[6]})\n"
   ]
  },
  {
   "cell_type": "code",
   "execution_count": 75,
   "metadata": {},
   "outputs": [],
   "source": [
    "# kmeans = KMeans(n_clusters=7, random_state=0)\n",
    "# df['cluster'] = kmeans.fit_predict(df[['XT', 'YT']])\n",
    "\n",
    "# # get centroids\n",
    "# centroids = kmeans.cluster_centers_\n",
    "# cen_x = [i[0] for i in centroids]\n",
    "# cen_y = [i[1] for i in centroids]\n",
    "\n",
    "# ## add to df\n",
    "# df['cen_x'] = df.cluster.map({0: cen_x[0], 1: cen_x[1], 2: cen_x[2], 3: cen_x[3], 4: cen_x[4], 5: cen_x[5], 6: cen_x[6]})\n",
    "# df['cen_y'] = df.cluster.map({0: cen_y[0], 1: cen_y[1], 2: cen_y[2], 3: cen_y[3], 4: cen_y[4], 5: cen_y[5], 6: cen_y[6]})\n",
    "\n",
    "# # define and map colors\n",
    "# df['color'] = df.cluster.map({0: palette[0], 1: palette[1], 2: palette[2], 3: palette[3], 4: palette[4], 5: palette[5], 6: palette[6]})\n"
   ]
  },
  {
   "cell_type": "code",
   "execution_count": 76,
   "metadata": {},
   "outputs": [
    {
     "data": {
      "text/html": [
       "<div>\n",
       "<style scoped>\n",
       "    .dataframe tbody tr th:only-of-type {\n",
       "        vertical-align: middle;\n",
       "    }\n",
       "\n",
       "    .dataframe tbody tr th {\n",
       "        vertical-align: top;\n",
       "    }\n",
       "\n",
       "    .dataframe thead th {\n",
       "        text-align: right;\n",
       "    }\n",
       "</style>\n",
       "<table border=\"1\" class=\"dataframe\">\n",
       "  <thead>\n",
       "    <tr style=\"text-align: right;\">\n",
       "      <th></th>\n",
       "      <th>Player_ID_Full</th>\n",
       "      <th>B</th>\n",
       "      <th>A</th>\n",
       "      <th>C</th>\n",
       "      <th>Pos</th>\n",
       "      <th>Player</th>\n",
       "      <th>Total Rank</th>\n",
       "      <th>A_bary</th>\n",
       "      <th>B_bary</th>\n",
       "      <th>C_bary</th>\n",
       "      <th>XT</th>\n",
       "      <th>YT</th>\n",
       "      <th>cluster</th>\n",
       "      <th>cen_x</th>\n",
       "      <th>cen_y</th>\n",
       "      <th>color</th>\n",
       "    </tr>\n",
       "  </thead>\n",
       "  <tbody>\n",
       "    <tr>\n",
       "      <th>6</th>\n",
       "      <td>Gareth Bale_WAL_FW_Tottenham_Premier League_31...</td>\n",
       "      <td>0.726795</td>\n",
       "      <td>0.127824</td>\n",
       "      <td>0.145381</td>\n",
       "      <td>FW</td>\n",
       "      <td>Gareth Bale</td>\n",
       "      <td>1.866621</td>\n",
       "      <td>0.127824</td>\n",
       "      <td>0.726795</td>\n",
       "      <td>0.145381</td>\n",
       "      <td>0.790707</td>\n",
       "      <td>0.110699</td>\n",
       "      <td>4</td>\n",
       "      <td>1.00</td>\n",
       "      <td>0.000000</td>\n",
       "      <td>#e66c5c</td>\n",
       "    </tr>\n",
       "    <tr>\n",
       "      <th>28</th>\n",
       "      <td>Jack Grealish_ENG_FWMF_Aston Villa_Premier Lea...</td>\n",
       "      <td>0.197718</td>\n",
       "      <td>0.732094</td>\n",
       "      <td>0.070188</td>\n",
       "      <td>FWMF</td>\n",
       "      <td>Jack Grealish</td>\n",
       "      <td>1.829318</td>\n",
       "      <td>0.732094</td>\n",
       "      <td>0.197718</td>\n",
       "      <td>0.070188</td>\n",
       "      <td>0.563765</td>\n",
       "      <td>0.634012</td>\n",
       "      <td>3</td>\n",
       "      <td>0.50</td>\n",
       "      <td>0.866025</td>\n",
       "      <td>#cc4778</td>\n",
       "    </tr>\n",
       "    <tr>\n",
       "      <th>57</th>\n",
       "      <td>Mason Mount_ENG_MFFW_Chelsea_Premier League_21...</td>\n",
       "      <td>0.056741</td>\n",
       "      <td>0.443013</td>\n",
       "      <td>0.500246</td>\n",
       "      <td>MFFW</td>\n",
       "      <td>Mason Mount</td>\n",
       "      <td>1.650916</td>\n",
       "      <td>0.443013</td>\n",
       "      <td>0.056741</td>\n",
       "      <td>0.500246</td>\n",
       "      <td>0.278248</td>\n",
       "      <td>0.383660</td>\n",
       "      <td>1</td>\n",
       "      <td>0.25</td>\n",
       "      <td>0.433013</td>\n",
       "      <td>#7e03a8</td>\n",
       "    </tr>\n",
       "    <tr>\n",
       "      <th>82</th>\n",
       "      <td>Andros Townsend_ENG_MFFW_Crystal Palace_Premie...</td>\n",
       "      <td>0.030283</td>\n",
       "      <td>0.121750</td>\n",
       "      <td>0.847968</td>\n",
       "      <td>MFFW</td>\n",
       "      <td>Andros Townsend</td>\n",
       "      <td>1.567894</td>\n",
       "      <td>0.121750</td>\n",
       "      <td>0.030283</td>\n",
       "      <td>0.847968</td>\n",
       "      <td>0.091158</td>\n",
       "      <td>0.105438</td>\n",
       "      <td>5</td>\n",
       "      <td>0.00</td>\n",
       "      <td>0.000000</td>\n",
       "      <td>#f89540</td>\n",
       "    </tr>\n",
       "    <tr>\n",
       "      <th>23</th>\n",
       "      <td>Phil Foden_ENG_FWMF_Manchester City_Premier Le...</td>\n",
       "      <td>0.464906</td>\n",
       "      <td>0.322687</td>\n",
       "      <td>0.212406</td>\n",
       "      <td>FWMF</td>\n",
       "      <td>Phil Foden</td>\n",
       "      <td>1.540992</td>\n",
       "      <td>0.322687</td>\n",
       "      <td>0.464906</td>\n",
       "      <td>0.212406</td>\n",
       "      <td>0.626250</td>\n",
       "      <td>0.279455</td>\n",
       "      <td>6</td>\n",
       "      <td>0.50</td>\n",
       "      <td>0.288675</td>\n",
       "      <td>#fdc527</td>\n",
       "    </tr>\n",
       "    <tr>\n",
       "      <th>77</th>\n",
       "      <td>Bernardo Silva_POR_MFFW_Manchester City_Premie...</td>\n",
       "      <td>0.089094</td>\n",
       "      <td>0.661598</td>\n",
       "      <td>0.249308</td>\n",
       "      <td>MFFW</td>\n",
       "      <td>Bernardo Silva</td>\n",
       "      <td>1.487597</td>\n",
       "      <td>0.661598</td>\n",
       "      <td>0.089094</td>\n",
       "      <td>0.249308</td>\n",
       "      <td>0.419893</td>\n",
       "      <td>0.572961</td>\n",
       "      <td>1</td>\n",
       "      <td>0.25</td>\n",
       "      <td>0.433013</td>\n",
       "      <td>#7e03a8</td>\n",
       "    </tr>\n",
       "    <tr>\n",
       "      <th>58</th>\n",
       "      <td>Lucas Moura_BRA_FWMF_Tottenham_Premier League_...</td>\n",
       "      <td>0.156115</td>\n",
       "      <td>0.198952</td>\n",
       "      <td>0.644933</td>\n",
       "      <td>FWMF</td>\n",
       "      <td>Lucas Moura</td>\n",
       "      <td>1.474514</td>\n",
       "      <td>0.198952</td>\n",
       "      <td>0.156115</td>\n",
       "      <td>0.644933</td>\n",
       "      <td>0.255591</td>\n",
       "      <td>0.172297</td>\n",
       "      <td>1</td>\n",
       "      <td>0.25</td>\n",
       "      <td>0.433013</td>\n",
       "      <td>#7e03a8</td>\n",
       "    </tr>\n",
       "    <tr>\n",
       "      <th>10</th>\n",
       "      <td>Saïd Benrahma_ALG_FWMF_West Ham_Premier League...</td>\n",
       "      <td>0.171510</td>\n",
       "      <td>0.364865</td>\n",
       "      <td>0.463625</td>\n",
       "      <td>FWMF</td>\n",
       "      <td>Saïd Benrahma</td>\n",
       "      <td>1.453709</td>\n",
       "      <td>0.364865</td>\n",
       "      <td>0.171510</td>\n",
       "      <td>0.463625</td>\n",
       "      <td>0.353943</td>\n",
       "      <td>0.315983</td>\n",
       "      <td>6</td>\n",
       "      <td>0.50</td>\n",
       "      <td>0.288675</td>\n",
       "      <td>#fdc527</td>\n",
       "    </tr>\n",
       "    <tr>\n",
       "      <th>40</th>\n",
       "      <td>Diogo Jota_POR_FW_Liverpool_Premier League_23_...</td>\n",
       "      <td>0.476224</td>\n",
       "      <td>0.359930</td>\n",
       "      <td>0.163846</td>\n",
       "      <td>FW</td>\n",
       "      <td>Diogo Jota</td>\n",
       "      <td>1.411674</td>\n",
       "      <td>0.359930</td>\n",
       "      <td>0.476224</td>\n",
       "      <td>0.163846</td>\n",
       "      <td>0.656189</td>\n",
       "      <td>0.311709</td>\n",
       "      <td>0</td>\n",
       "      <td>0.75</td>\n",
       "      <td>0.433013</td>\n",
       "      <td>#4c02a1</td>\n",
       "    </tr>\n",
       "    <tr>\n",
       "      <th>65</th>\n",
       "      <td>Paul Pogba_FRA_MFFW_Manchester Utd_Premier Lea...</td>\n",
       "      <td>0.064153</td>\n",
       "      <td>0.451958</td>\n",
       "      <td>0.483889</td>\n",
       "      <td>MFFW</td>\n",
       "      <td>Paul Pogba</td>\n",
       "      <td>1.411162</td>\n",
       "      <td>0.451958</td>\n",
       "      <td>0.064153</td>\n",
       "      <td>0.483889</td>\n",
       "      <td>0.290132</td>\n",
       "      <td>0.391407</td>\n",
       "      <td>1</td>\n",
       "      <td>0.25</td>\n",
       "      <td>0.433013</td>\n",
       "      <td>#7e03a8</td>\n",
       "    </tr>\n",
       "    <tr>\n",
       "      <th>44</th>\n",
       "      <td>Jesse Lingard_ENG_MFFW_West Ham_Premier League...</td>\n",
       "      <td>0.491493</td>\n",
       "      <td>0.422728</td>\n",
       "      <td>0.085778</td>\n",
       "      <td>MFFW</td>\n",
       "      <td>Jesse Lingard</td>\n",
       "      <td>1.403411</td>\n",
       "      <td>0.422728</td>\n",
       "      <td>0.491493</td>\n",
       "      <td>0.085778</td>\n",
       "      <td>0.702857</td>\n",
       "      <td>0.366094</td>\n",
       "      <td>0</td>\n",
       "      <td>0.75</td>\n",
       "      <td>0.433013</td>\n",
       "      <td>#4c02a1</td>\n",
       "    </tr>\n",
       "    <tr>\n",
       "      <th>49</th>\n",
       "      <td>Riyad Mahrez_ALG_FW_Manchester City_Premier Le...</td>\n",
       "      <td>0.388154</td>\n",
       "      <td>0.555815</td>\n",
       "      <td>0.056031</td>\n",
       "      <td>FW</td>\n",
       "      <td>Riyad Mahrez</td>\n",
       "      <td>1.399872</td>\n",
       "      <td>0.555815</td>\n",
       "      <td>0.388154</td>\n",
       "      <td>0.056031</td>\n",
       "      <td>0.666062</td>\n",
       "      <td>0.481350</td>\n",
       "      <td>0</td>\n",
       "      <td>0.75</td>\n",
       "      <td>0.433013</td>\n",
       "      <td>#4c02a1</td>\n",
       "    </tr>\n",
       "    <tr>\n",
       "      <th>48</th>\n",
       "      <td>James Maddison_ENG_MFFW_Leicester City_Premier...</td>\n",
       "      <td>0.321771</td>\n",
       "      <td>0.408561</td>\n",
       "      <td>0.269669</td>\n",
       "      <td>MFFW</td>\n",
       "      <td>James Maddison</td>\n",
       "      <td>1.341481</td>\n",
       "      <td>0.408561</td>\n",
       "      <td>0.321771</td>\n",
       "      <td>0.269669</td>\n",
       "      <td>0.526051</td>\n",
       "      <td>0.353824</td>\n",
       "      <td>6</td>\n",
       "      <td>0.50</td>\n",
       "      <td>0.288675</td>\n",
       "      <td>#fdc527</td>\n",
       "    </tr>\n",
       "    <tr>\n",
       "      <th>62</th>\n",
       "      <td>Ayoze Pérez_ESP_MFFW_Leicester City_Premier Le...</td>\n",
       "      <td>0.032935</td>\n",
       "      <td>0.273882</td>\n",
       "      <td>0.693184</td>\n",
       "      <td>MFFW</td>\n",
       "      <td>Ayoze Pérez</td>\n",
       "      <td>1.334088</td>\n",
       "      <td>0.273882</td>\n",
       "      <td>0.032935</td>\n",
       "      <td>0.693184</td>\n",
       "      <td>0.169875</td>\n",
       "      <td>0.237188</td>\n",
       "      <td>1</td>\n",
       "      <td>0.25</td>\n",
       "      <td>0.433013</td>\n",
       "      <td>#7e03a8</td>\n",
       "    </tr>\n",
       "    <tr>\n",
       "      <th>9</th>\n",
       "      <td>Harvey Barnes_ENG_FWMF_Leicester City_Premier ...</td>\n",
       "      <td>0.367615</td>\n",
       "      <td>0.447700</td>\n",
       "      <td>0.184685</td>\n",
       "      <td>FWMF</td>\n",
       "      <td>Harvey Barnes</td>\n",
       "      <td>1.328671</td>\n",
       "      <td>0.447700</td>\n",
       "      <td>0.367615</td>\n",
       "      <td>0.184685</td>\n",
       "      <td>0.591465</td>\n",
       "      <td>0.387719</td>\n",
       "      <td>6</td>\n",
       "      <td>0.50</td>\n",
       "      <td>0.288675</td>\n",
       "      <td>#fdc527</td>\n",
       "    </tr>\n",
       "    <tr>\n",
       "      <th>73</th>\n",
       "      <td>James Rodríguez_COL_FWMF_Everton_Premier Leagu...</td>\n",
       "      <td>0.270606</td>\n",
       "      <td>0.520044</td>\n",
       "      <td>0.209350</td>\n",
       "      <td>FWMF</td>\n",
       "      <td>James Rodríguez</td>\n",
       "      <td>1.311481</td>\n",
       "      <td>0.520044</td>\n",
       "      <td>0.270606</td>\n",
       "      <td>0.209350</td>\n",
       "      <td>0.530628</td>\n",
       "      <td>0.450371</td>\n",
       "      <td>6</td>\n",
       "      <td>0.50</td>\n",
       "      <td>0.288675</td>\n",
       "      <td>#fdc527</td>\n",
       "    </tr>\n",
       "    <tr>\n",
       "      <th>72</th>\n",
       "      <td>Rodrigo_ESP_MFFW_Leeds United_Premier League_2...</td>\n",
       "      <td>0.432800</td>\n",
       "      <td>0.290294</td>\n",
       "      <td>0.276906</td>\n",
       "      <td>MFFW</td>\n",
       "      <td>Rodrigo</td>\n",
       "      <td>1.299120</td>\n",
       "      <td>0.290294</td>\n",
       "      <td>0.432800</td>\n",
       "      <td>0.276906</td>\n",
       "      <td>0.577947</td>\n",
       "      <td>0.251402</td>\n",
       "      <td>6</td>\n",
       "      <td>0.50</td>\n",
       "      <td>0.288675</td>\n",
       "      <td>#fdc527</td>\n",
       "    </tr>\n",
       "    <tr>\n",
       "      <th>51</th>\n",
       "      <td>Sadio Mané_SEN_FW_Liverpool_Premier League_28_...</td>\n",
       "      <td>0.366160</td>\n",
       "      <td>0.417652</td>\n",
       "      <td>0.216188</td>\n",
       "      <td>FW</td>\n",
       "      <td>Sadio Mané</td>\n",
       "      <td>1.295360</td>\n",
       "      <td>0.417652</td>\n",
       "      <td>0.366160</td>\n",
       "      <td>0.216188</td>\n",
       "      <td>0.574986</td>\n",
       "      <td>0.361698</td>\n",
       "      <td>6</td>\n",
       "      <td>0.50</td>\n",
       "      <td>0.288675</td>\n",
       "      <td>#fdc527</td>\n",
       "    </tr>\n",
       "    <tr>\n",
       "      <th>41</th>\n",
       "      <td>Harry Kane_ENG_FW_Tottenham_Premier League_27_...</td>\n",
       "      <td>0.799903</td>\n",
       "      <td>0.168018</td>\n",
       "      <td>0.032079</td>\n",
       "      <td>FW</td>\n",
       "      <td>Harry Kane</td>\n",
       "      <td>1.253720</td>\n",
       "      <td>0.168018</td>\n",
       "      <td>0.799903</td>\n",
       "      <td>0.032079</td>\n",
       "      <td>0.883912</td>\n",
       "      <td>0.145508</td>\n",
       "      <td>4</td>\n",
       "      <td>1.00</td>\n",
       "      <td>0.000000</td>\n",
       "      <td>#e66c5c</td>\n",
       "    </tr>\n",
       "    <tr>\n",
       "      <th>60</th>\n",
       "      <td>Nicolas Pépé_CIV_FW_Arsenal_Premier League_25_...</td>\n",
       "      <td>0.397149</td>\n",
       "      <td>0.250831</td>\n",
       "      <td>0.352021</td>\n",
       "      <td>FW</td>\n",
       "      <td>Nicolas Pépé</td>\n",
       "      <td>1.206510</td>\n",
       "      <td>0.250831</td>\n",
       "      <td>0.397149</td>\n",
       "      <td>0.352021</td>\n",
       "      <td>0.522564</td>\n",
       "      <td>0.217226</td>\n",
       "      <td>6</td>\n",
       "      <td>0.50</td>\n",
       "      <td>0.288675</td>\n",
       "      <td>#fdc527</td>\n",
       "    </tr>\n",
       "  </tbody>\n",
       "</table>\n",
       "</div>"
      ],
      "text/plain": [
       "                                       Player_ID_Full         B         A  \\\n",
       "6   Gareth Bale_WAL_FW_Tottenham_Premier League_31...  0.726795  0.127824   \n",
       "28  Jack Grealish_ENG_FWMF_Aston Villa_Premier Lea...  0.197718  0.732094   \n",
       "57  Mason Mount_ENG_MFFW_Chelsea_Premier League_21...  0.056741  0.443013   \n",
       "82  Andros Townsend_ENG_MFFW_Crystal Palace_Premie...  0.030283  0.121750   \n",
       "23  Phil Foden_ENG_FWMF_Manchester City_Premier Le...  0.464906  0.322687   \n",
       "77  Bernardo Silva_POR_MFFW_Manchester City_Premie...  0.089094  0.661598   \n",
       "58  Lucas Moura_BRA_FWMF_Tottenham_Premier League_...  0.156115  0.198952   \n",
       "10  Saïd Benrahma_ALG_FWMF_West Ham_Premier League...  0.171510  0.364865   \n",
       "40  Diogo Jota_POR_FW_Liverpool_Premier League_23_...  0.476224  0.359930   \n",
       "65  Paul Pogba_FRA_MFFW_Manchester Utd_Premier Lea...  0.064153  0.451958   \n",
       "44  Jesse Lingard_ENG_MFFW_West Ham_Premier League...  0.491493  0.422728   \n",
       "49  Riyad Mahrez_ALG_FW_Manchester City_Premier Le...  0.388154  0.555815   \n",
       "48  James Maddison_ENG_MFFW_Leicester City_Premier...  0.321771  0.408561   \n",
       "62  Ayoze Pérez_ESP_MFFW_Leicester City_Premier Le...  0.032935  0.273882   \n",
       "9   Harvey Barnes_ENG_FWMF_Leicester City_Premier ...  0.367615  0.447700   \n",
       "73  James Rodríguez_COL_FWMF_Everton_Premier Leagu...  0.270606  0.520044   \n",
       "72  Rodrigo_ESP_MFFW_Leeds United_Premier League_2...  0.432800  0.290294   \n",
       "51  Sadio Mané_SEN_FW_Liverpool_Premier League_28_...  0.366160  0.417652   \n",
       "41  Harry Kane_ENG_FW_Tottenham_Premier League_27_...  0.799903  0.168018   \n",
       "60  Nicolas Pépé_CIV_FW_Arsenal_Premier League_25_...  0.397149  0.250831   \n",
       "\n",
       "           C   Pos           Player  Total Rank    A_bary    B_bary    C_bary  \\\n",
       "6   0.145381    FW      Gareth Bale    1.866621  0.127824  0.726795  0.145381   \n",
       "28  0.070188  FWMF    Jack Grealish    1.829318  0.732094  0.197718  0.070188   \n",
       "57  0.500246  MFFW      Mason Mount    1.650916  0.443013  0.056741  0.500246   \n",
       "82  0.847968  MFFW  Andros Townsend    1.567894  0.121750  0.030283  0.847968   \n",
       "23  0.212406  FWMF       Phil Foden    1.540992  0.322687  0.464906  0.212406   \n",
       "77  0.249308  MFFW   Bernardo Silva    1.487597  0.661598  0.089094  0.249308   \n",
       "58  0.644933  FWMF      Lucas Moura    1.474514  0.198952  0.156115  0.644933   \n",
       "10  0.463625  FWMF    Saïd Benrahma    1.453709  0.364865  0.171510  0.463625   \n",
       "40  0.163846    FW       Diogo Jota    1.411674  0.359930  0.476224  0.163846   \n",
       "65  0.483889  MFFW       Paul Pogba    1.411162  0.451958  0.064153  0.483889   \n",
       "44  0.085778  MFFW    Jesse Lingard    1.403411  0.422728  0.491493  0.085778   \n",
       "49  0.056031    FW     Riyad Mahrez    1.399872  0.555815  0.388154  0.056031   \n",
       "48  0.269669  MFFW   James Maddison    1.341481  0.408561  0.321771  0.269669   \n",
       "62  0.693184  MFFW      Ayoze Pérez    1.334088  0.273882  0.032935  0.693184   \n",
       "9   0.184685  FWMF    Harvey Barnes    1.328671  0.447700  0.367615  0.184685   \n",
       "73  0.209350  FWMF  James Rodríguez    1.311481  0.520044  0.270606  0.209350   \n",
       "72  0.276906  MFFW          Rodrigo    1.299120  0.290294  0.432800  0.276906   \n",
       "51  0.216188    FW       Sadio Mané    1.295360  0.417652  0.366160  0.216188   \n",
       "41  0.032079    FW       Harry Kane    1.253720  0.168018  0.799903  0.032079   \n",
       "60  0.352021    FW     Nicolas Pépé    1.206510  0.250831  0.397149  0.352021   \n",
       "\n",
       "          XT        YT  cluster  cen_x     cen_y    color  \n",
       "6   0.790707  0.110699        4   1.00  0.000000  #e66c5c  \n",
       "28  0.563765  0.634012        3   0.50  0.866025  #cc4778  \n",
       "57  0.278248  0.383660        1   0.25  0.433013  #7e03a8  \n",
       "82  0.091158  0.105438        5   0.00  0.000000  #f89540  \n",
       "23  0.626250  0.279455        6   0.50  0.288675  #fdc527  \n",
       "77  0.419893  0.572961        1   0.25  0.433013  #7e03a8  \n",
       "58  0.255591  0.172297        1   0.25  0.433013  #7e03a8  \n",
       "10  0.353943  0.315983        6   0.50  0.288675  #fdc527  \n",
       "40  0.656189  0.311709        0   0.75  0.433013  #4c02a1  \n",
       "65  0.290132  0.391407        1   0.25  0.433013  #7e03a8  \n",
       "44  0.702857  0.366094        0   0.75  0.433013  #4c02a1  \n",
       "49  0.666062  0.481350        0   0.75  0.433013  #4c02a1  \n",
       "48  0.526051  0.353824        6   0.50  0.288675  #fdc527  \n",
       "62  0.169875  0.237188        1   0.25  0.433013  #7e03a8  \n",
       "9   0.591465  0.387719        6   0.50  0.288675  #fdc527  \n",
       "73  0.530628  0.450371        6   0.50  0.288675  #fdc527  \n",
       "72  0.577947  0.251402        6   0.50  0.288675  #fdc527  \n",
       "51  0.574986  0.361698        6   0.50  0.288675  #fdc527  \n",
       "41  0.883912  0.145508        4   1.00  0.000000  #e66c5c  \n",
       "60  0.522564  0.217226        6   0.50  0.288675  #fdc527  "
      ]
     },
     "execution_count": 76,
     "metadata": {},
     "output_type": "execute_result"
    }
   ],
   "source": [
    "df.head(20)"
   ]
  },
  {
   "cell_type": "code",
   "execution_count": 77,
   "metadata": {},
   "outputs": [
    {
     "name": "stdout",
     "output_type": "stream",
     "text": [
      "416.1562411694292 57.747507296851836 240.1145077585645\n"
     ]
    },
    {
     "data": {
      "text/plain": [
       "1.733157421657649"
      ]
     },
     "execution_count": 77,
     "metadata": {},
     "output_type": "execute_result"
    }
   ],
   "source": [
    "markersizedef = 250*df['Total Rank']**np.sqrt(2/3)\n",
    "print(max(markersizedef), min(markersizedef), mean(markersizedef))\n",
    "max(markersizedef) / mean(markersizedef)"
   ]
  },
  {
   "cell_type": "code",
   "execution_count": 78,
   "metadata": {},
   "outputs": [
    {
     "data": {
      "application/vnd.plotly.v1+json": {
       "config": {
        "plotlyServerURL": "https://plot.ly"
       },
       "data": [
        {
         "line": {
          "color": "white",
          "width": 5
         },
         "mode": "lines",
         "name": "Outer Triangle",
         "opacity": 1,
         "type": "scatter",
         "x": [
          0,
          0.5,
          1,
          0
         ],
         "y": [
          0,
          0.8660254037844386,
          0,
          0
         ]
        },
        {
         "mode": "text",
         "name": "Axes Markers",
         "text": [
          "Progressive<br>Passes +<br>Carries"
         ],
         "textfont": {
          "size": 18
         },
         "textposition": "top center",
         "type": "scatter",
         "x": [
          0.5
         ],
         "y": [
          0.8860254037844386
         ]
        },
        {
         "mode": "text",
         "name": "Axes Markers",
         "text": [
          "Non-Penalty<br>Goal<br>Contributions<br>per 90"
         ],
         "textfont": {
          "size": 18
         },
         "textposition": "bottom right",
         "type": "scatter",
         "x": [
          1.02
         ],
         "y": [
          -0.02
         ]
        },
        {
         "mode": "text",
         "name": "Axes Markers",
         "text": [
          "Tackles +<br>Interceptions"
         ],
         "textfont": {
          "size": 18
         },
         "textposition": "bottom left",
         "type": "scatter",
         "x": [
          -0.02
         ],
         "y": [
          -0.02
         ]
        },
        {
         "mode": "text",
         "name": "Axes Markers",
         "text": [
          "A + C"
         ],
         "textfont": {
          "size": 18
         },
         "textposition": "middle center",
         "type": "scatter",
         "x": [
          0.15
         ],
         "y": [
          0.4330127018922193
         ]
        },
        {
         "mode": "text",
         "name": "Axes Markers",
         "text": [
          "A + B"
         ],
         "textfont": {
          "size": 18
         },
         "textposition": "middle center",
         "type": "scatter",
         "x": [
          0.85
         ],
         "y": [
          0.4330127018922193
         ]
        },
        {
         "mode": "text",
         "name": "Axes Markers",
         "text": [
          "C + B"
         ],
         "textfont": {
          "size": 18
         },
         "textposition": "bottom center",
         "type": "scatter",
         "x": [
          0.5
         ],
         "y": [
          -0.025
         ]
        },
        {
         "customdata": [
          [
           "Gareth Bale",
           1.8666209257952378,
           0.12782421227912788,
           0.7267946771344457,
           0.14538111058642633
          ],
          [
           "Harry Kane",
           1.2537204050387607,
           0.16801785433672464,
           0.7999033976636827,
           0.0320787479995926
          ],
          [
           "Son Heung-min",
           1.1244699975899861,
           0.13617668304379474,
           0.7096764148987718,
           0.15414690205743345
          ],
          [
           "Kelechi Iheanacho",
           1.0263054259478444,
           0.07006533039784643,
           0.8817739458555933,
           0.048160723746560184
          ],
          [
           "Edinson Cavani",
           0.97433721014231,
           0,
           0.8279994150605554,
           0.17200058493944448
          ],
          [
           "Michail Antonio",
           0.939360251398827,
           0.14533216312711328,
           0.7747071144767652,
           0.07996072239612155
          ],
          [
           "Danny Ings",
           0.8365211890856621,
           0.07234516040958253,
           0.7318316523814524,
           0.1958231872089651
          ],
          [
           "Patrick Bamford",
           0.7409531862504484,
           0.0038814977941972473,
           0.869902053221824,
           0.12621644898397885
          ],
          [
           "Christian Benteke",
           0.6652580639252603,
           0.043592331057362585,
           0.8713335349906677,
           0.08507413395196975
          ],
          [
           "Callum Wilson",
           0.6420753348550791,
           0.058037525130238694,
           0.9047312590163409,
           0.03723121585342043
          ],
          [
           "Tammy Abraham",
           0.6150231338702046,
           0.00015889664294410502,
           0.9331163974017546,
           0.06672470595530124
          ],
          [
           "Danny Welbeck",
           0.5847952301069399,
           0.07680553992948691,
           0.7443278751691538,
           0.17886658490135945
          ],
          [
           "Jamie Vardy",
           0.561737117899077,
           0.021667636952354057,
           0.9226801789003225,
           0.055652184147323466
          ],
          [
           "Dominic Calvert-Lewin",
           0.5481075936432434,
           0.025232757001012948,
           0.9269190567633957,
           0.04784818623559144
          ],
          [
           "Fábio Silva",
           0.5223235518872302,
           0.026483537264324113,
           0.7692225456503087,
           0.20429391708536723
          ],
          [
           "Matěj Vydra",
           0.470420422923493,
           0.050590246975536386,
           0.730598854483384,
           0.21881089854107955
          ],
          [
           "Chris Wood",
           0.4463089637907235,
           0.0010469291990206416,
           0.924146944694161,
           0.07480612610681837
          ],
          [
           "Aleksandar Mitrović",
           0.4459934392463469,
           0.0371707714024414,
           0.7416140367049454,
           0.2212151918926132
          ],
          [
           "Mbaye Diagne",
           0.40528698615096065,
           0.00000322544791556463,
           0.8894141330585955,
           0.11058264149348893
          ]
         ],
         "hovertemplate": "color=#e66c5c<br>XT=%{x}<br>YT=%{y}<br>size=%{marker.size}<br>Player=%{customdata[0]}<br>Total Rank=%{customdata[1]}<br>A=%{customdata[2]}<br>B=%{customdata[3]}<br>C=%{customdata[4]}<extra></extra>",
         "legendgroup": "#e66c5c",
         "marker": {
          "color": "#636efa",
          "opacity": 1,
          "size": [
           416.1562411694292,
           300.6910764561895,
           275.1305220677004,
           255.35674535048457,
           244.74914395433066,
           237.5513899729218,
           216.0939958564081,
           195.71522774000744,
           179.2305631485944,
           174.11437365293477,
           168.1011176576708,
           161.32416490799224,
           156.11141453102002,
           153.01177130467755,
           147.10880367554165,
           135.05979452208987,
           129.3804572537978,
           129.30576960831954,
           119.58578550867861
          ],
          "sizemode": "area",
          "sizeref": 1.040390602923573,
          "symbol": "circle"
         },
         "mode": "markers",
         "name": "#e66c5c",
         "orientation": "v",
         "showlegend": true,
         "type": "scatter",
         "x": [
          0.7907067832740097,
          0.883912324832045,
          0.7777647564206692,
          0.9168066110545166,
          0.8279994150605555,
          0.8473731960403219,
          0.7680042325862437,
          0.8718428021189226,
          0.8931297005193489,
          0.9337500215814603,
          0.9331958457232267,
          0.782730645133897,
          0.9335139973764995,
          0.9395354352639022,
          0.7824643142824708,
          0.7558939779711522,
          0.9246704092936714,
          0.7601994224061661,
          0.8894157457825533
         ],
         "xaxis": "x",
         "y": [
          0.11069901505245953,
          0.14550773014495694,
          0.11793246691902788,
          0.06067835604908506,
          0,
          0.12586134525502418,
          0.0626527467555587,
          0.0033614756945080787,
          0.03775206610585736,
          0.050261971135564465,
          0.00013760852936566033,
          0.0665155487303157,
          0.018764724040717044,
          0.02185220857039686,
          0.022935416052976516,
          0.04381243906454337,
          0.00090666728231557,
          0.032190832312778375,
          0.0000027933198334625345
         ],
         "yaxis": "y"
        },
        {
         "customdata": [
          [
           "Jack Grealish",
           1.8293180668930145,
           0.7320938169626028,
           0.1977184367715976,
           0.07018774626579956
          ],
          [
           "Adama Traoré",
           0.9791402691930036,
           0.8141936432249038,
           0.027224458040271005,
           0.15858189873482512
          ]
         ],
         "hovertemplate": "color=#cc4778<br>XT=%{x}<br>YT=%{y}<br>size=%{marker.size}<br>Player=%{customdata[0]}<br>Total Rank=%{customdata[1]}<br>A=%{customdata[2]}<br>B=%{customdata[3]}<br>C=%{customdata[4]}<extra></extra>",
         "legendgroup": "#cc4778",
         "marker": {
          "color": "#EF553B",
          "opacity": 1,
          "size": [
           409.3532690554673,
           245.7338080365546
          ],
          "sizemode": "area",
          "sizeref": 1.040390602923573,
          "symbol": "circle"
         },
         "mode": "markers",
         "name": "#cc4778",
         "orientation": "v",
         "showlegend": true,
         "type": "scatter",
         "x": [
          0.563765345252899,
          0.434321279652723
         ],
         "xaxis": "x",
         "y": [
          0.634011843443129,
          0.7051123786325706
         ],
         "yaxis": "y"
        },
        {
         "customdata": [
          [
           "Mason Mount",
           1.6509164124420934,
           0.4430129341922931,
           0.05674117077375675,
           0.5002458950339501
          ],
          [
           "Bernardo Silva",
           1.4875968764901801,
           0.6615980995150134,
           0.0890935608336917,
           0.24930833965129498
          ],
          [
           "Lucas Moura",
           1.4745141948999494,
           0.19895189531518245,
           0.15611537758588734,
           0.6449327270989302
          ],
          [
           "Paul Pogba",
           1.4111622132860304,
           0.45195751310883225,
           0.06415338632293392,
           0.48388910056823387
          ],
          [
           "Ayoze Pérez",
           1.3340884333118677,
           0.2738815087621334,
           0.0329346353917779,
           0.6931838558460887
          ],
          [
           "Nathan Redmond",
           1.178956616249833,
           0.38816082290910686,
           0.08069613986536427,
           0.5311430372255288
          ],
          [
           "Christian Pulisic",
           1.1669910615442656,
           0.6681831482534829,
           0.11513472055047194,
           0.21668213119604518
          ],
          [
           "Pablo Fornals",
           1.1489547824988118,
           0.2610954394331143,
           0.12227025191377378,
           0.616634308653112
          ],
          [
           "Ademola Lookman",
           1.1058444073578078,
           0.5425558735861647,
           0.09274668849495389,
           0.36469743791888126
          ],
          [
           "Adam Lallana",
           1.0558906833305446,
           0.3565917587935283,
           0.015419444142158983,
           0.6279887970643127
          ],
          [
           "Ruben Loftus-Cheek",
           0.9366792086180946,
           0.3329091771424713,
           0.0037272301723409993,
           0.6633635926851876
          ],
          [
           "Richarlison",
           0.9154683896105553,
           0.23340319604536955,
           0.16022707327503008,
           0.6063697306796004
          ],
          [
           "Daniel Podence",
           0.9115921260254136,
           0.44623317242120863,
           0.15601898980054807,
           0.3977478377782433
          ],
          [
           "Tyler Roberts",
           0.8132122995916973,
           0.3980861434296939,
           0.10312980409830749,
           0.49878405247199864
          ],
          [
           "Matt Phillips",
           0.7376049956234887,
           0.2581843350813445,
           0.06441144067012713,
           0.6774042242485284
          ],
          [
           "Ivan Cavaleiro",
           0.6411331655173309,
           0.42057868979829627,
           0.01729630700862138,
           0.5621250031930823
          ],
          [
           "Oliver McBurnie",
           0.47440638227678616,
           0.2674762741667232,
           0.031696806231874604,
           0.7008269196014023
          ]
         ],
         "hovertemplate": "color=#7e03a8<br>XT=%{x}<br>YT=%{y}<br>size=%{marker.size}<br>Player=%{customdata[0]}<br>Total Rank=%{customdata[1]}<br>A=%{customdata[2]}<br>B=%{customdata[3]}<br>C=%{customdata[4]}<extra></extra>",
         "legendgroup": "#7e03a8",
         "marker": {
          "color": "#00cc96",
          "opacity": 1,
          "size": [
           376.4538960831117,
           345.75911022204724,
           343.27431254389984,
           331.1837869494598,
           316.3390615488651,
           285.9681972233743,
           283.5962065337012,
           280.01232699723414,
           271.4038671076602,
           261.3513856645955,
           236.9976608657358,
           232.60654874870835,
           231.80206879505062,
           211.16494884992542,
           194.99282607390384,
           173.90573706298912,
           135.9934583045915
          ],
          "sizemode": "area",
          "sizeref": 1.040390602923573,
          "symbol": "circle"
         },
         "mode": "markers",
         "name": "#7e03a8",
         "orientation": "v",
         "showlegend": true,
         "type": "scatter",
         "x": [
          0.2782476378699033,
          0.41989261059119837,
          0.25559132524347855,
          0.29013214287735006,
          0.1698753897728446,
          0.2747765513199177,
          0.4492262946772134,
          0.25281797163033093,
          0.36402462528803625,
          0.19371532353892315,
          0.17018181874357666,
          0.27692867129771487,
          0.3791355760111524,
          0.30217287581315444,
          0.19350360821079937,
          0.22758565190776953,
          0.1654349433152362
         ],
         "xaxis": "x",
         "y": [
          0.38366045521560954,
          0.5729607612755067,
          0.17229739547401024,
          0.39140668778348714,
          0.23718834421481785,
          0.3361571333931592,
          0.5786635807681799,
          0.22611528336133824,
          0.46986716949807716,
          0.3088175218953685,
          0.2883078045583539,
          0.20213309709976965,
          0.3864492633280882,
          0.3447527131046906,
          0.22359419303963815,
          0.36423182965569967,
          0.23164124833799365
         ],
         "yaxis": "y"
        },
        {
         "customdata": [
          [
           "Andros Townsend",
           1.5678937568701348,
           0.12174980291468793,
           0.03028267665496197,
           0.8479675204303502
          ],
          [
           "Trézéguet",
           1.1586488218612758,
           0.13933993452347604,
           0.055413681087039854,
           0.805246384389484
          ],
          [
           "Grady Diangana",
           1.0911723719785555,
           0.12397176230035627,
           0.004677426470586043,
           0.8713508112290578
          ],
          [
           "Jordan Ayew",
           1.0404240430896503,
           0.0540229804299171,
           0.03082495170161199,
           0.9151520678684708
          ],
          [
           "Miguel Almirón",
           1.0101515304000315,
           0.1974573543153899,
           0.0519263018219134,
           0.7506163438626967
          ],
          [
           "Alexis Mac Allister",
           0.9690381739215084,
           0.14079320048060423,
           0.03671069897846344,
           0.8224961005409323
          ],
          [
           "Joelinton",
           0.9449683806578988,
           0.06525209968010502,
           0.07837922535069837,
           0.8563686749691967
          ],
          [
           "Jay Rodriguez",
           0.743684919589709,
           0.06465171838056823,
           0.11047385594656561,
           0.8248744256728662
          ],
          [
           "Oliver Burke",
           0.4696810569814976,
           0.11864987877388845,
           0.13706455476376606,
           0.7442855664623454
          ],
          [
           "Ashley Barnes",
           0.4326440199444606,
           0.05208798176642429,
           0.14741603320330793,
           0.8004959850302678
          ],
          [
           "Karlan Grant",
           0.36309144901935486,
           0.04895420787679533,
           0.05982969671651368,
           0.8912160954066909
          ],
          [
           "Rhian Brewster",
           0.3460283854779268,
           0.025121247904998503,
           0,
           0.9748787520950015
          ]
         ],
         "hovertemplate": "color=#f89540<br>XT=%{x}<br>YT=%{y}<br>size=%{marker.size}<br>Player=%{customdata[0]}<br>Total Rank=%{customdata[1]}<br>A=%{customdata[2]}<br>B=%{customdata[3]}<br>C=%{customdata[4]}<extra></extra>",
         "legendgroup": "#f89540",
         "marker": {
          "color": "#ab63fa",
          "opacity": 1,
          "size": [
           360.92367428361194,
           281.9398436791336,
           268.46013770044516,
           258.2213961115254,
           252.0702500892092,
           243.66176661798164,
           238.70872842126235,
           196.30417960495453,
           134.88644749760553,
           126.13684778474074,
           109.31873418678312,
           105.10570971473739
          ],
          "sizemode": "area",
          "sizeref": 1.040390602923573,
          "symbol": "circle"
         },
         "mode": "markers",
         "name": "#f89540",
         "orientation": "v",
         "showlegend": true,
         "type": "scatter",
         "x": [
          0.09115757811230593,
          0.1250836483487779,
          0.06666330762076418,
          0.05783644191657055,
          0.15065497897960836,
          0.10710729921876556,
          0.11100527519075087,
          0.14279971513684972,
          0.19638949415071028,
          0.17346002408652006,
          0.08430680065491136,
          0.012560623952499251
         ],
         "xaxis": "x",
         "y": [
          0.10543842222986843,
          0.12067192305899058,
          0.10736269550403447,
          0.046785273440457784,
          0.17100308500119252,
          0.12193048829631872,
          0.05650997597324539,
          0.05599003051588941,
          0.10275380917413143,
          0.04510951544158407,
          0.04239558764344903,
          0.02175563886049531
         ],
         "yaxis": "y"
        },
        {
         "customdata": [
          [
           "Phil Foden",
           1.5409917547062677,
           0.32268737594962515,
           0.4649061670193512,
           0.21240645703102357
          ],
          [
           "Saïd Benrahma",
           1.4537086328099837,
           0.3648652004521175,
           0.17151009875354065,
           0.46362470079434176
          ],
          [
           "James Maddison",
           1.3414807035265028,
           0.40856074809850484,
           0.3217707211928565,
           0.26966853070863855
          ],
          [
           "Harvey Barnes",
           1.3286708515705121,
           0.4476995785722016,
           0.3676154859259221,
           0.18468493550187642
          ],
          [
           "James Rodríguez",
           1.311480969019075,
           0.5200435994956618,
           0.2706062232637317,
           0.20935017724060653
          ],
          [
           "Rodrigo",
           1.2991197892194786,
           0.29029408320648964,
           0.43279977168769534,
           0.27690614510581507
          ],
          [
           "Sadio Mané",
           1.295359632327775,
           0.417652467015742,
           0.36615950181354784,
           0.21618803117071017
          ],
          [
           "Nicolas Pépé",
           1.2065098469960132,
           0.25083050055200906,
           0.39714853693055396,
           0.3520209625174369
          ],
          [
           "Pedro Neto",
           1.1889719222053254,
           0.5879260975896384,
           0.18684563985680705,
           0.2252282625535546
          ],
          [
           "Matheus Pereira",
           1.1792411872416206,
           0.3362964567871285,
           0.26923065618057235,
           0.3944728870322991
          ],
          [
           "Willian",
           1.175998452733987,
           0.5811573857724575,
           0.18175089992028745,
           0.23709171430725512
          ],
          [
           "Hakim Ziyech",
           1.1203684049021043,
           0.6283369675188779,
           0.19525618474126916,
           0.1764068477398529
          ],
          [
           "Daniel James",
           1.1199424642608924,
           0.32886848360318927,
           0.23349702921526083,
           0.43763448718154985
          ],
          [
           "Wilfried Zaha",
           1.099521022586832,
           0.3660808073376726,
           0.21830974786861032,
           0.415609444793717
          ],
          [
           "Ferrán Torres",
           1.0762675984015289,
           0.23083986557473804,
           0.5789572026074027,
           0.19020293181785922
          ],
          [
           "Leandro Trossard",
           1.0685725946218616,
           0.5273781772827657,
           0.19085034342558577,
           0.28177147929164864
          ],
          [
           "Gabriel Jesus",
           1.0584257875199146,
           0.17093217996382815,
           0.5145275535654643,
           0.31454026647070754
          ],
          [
           "Mason Greenwood",
           0.9839210803777734,
           0.4512963661677243,
           0.3608246207746221,
           0.18787901305765364
          ],
          [
           "Kai Havertz",
           0.9756745003440084,
           0.30917637292029504,
           0.32809184225004906,
           0.3627317848296559
          ],
          [
           "Emile Smith-Rowe",
           0.9435655096747346,
           0.3432802536990698,
           0.28514998153664833,
           0.3715697647642819
          ],
          [
           "Theo Walcott",
           0.9017607611445653,
           0.17655948688391193,
           0.23179261406567056,
           0.5916478990504175
          ],
          [
           "Raúl Jiménez",
           0.8825540817630682,
           0.2905998853215497,
           0.4548571781171993,
           0.25454293656125104
          ],
          [
           "Steven Bergwijn",
           0.8792495636351736,
           0.19413319820826497,
           0.20043279941829933,
           0.6054340023734356
          ],
          [
           "Anwar El Ghazi",
           0.8768803408513008,
           0.47654749842626726,
           0.25780865584749807,
           0.2656438457262347
          ],
          [
           "David McGoldrick",
           0.7949127507026807,
           0.2569105717356607,
           0.3373796597948479,
           0.40570976846949136
          ],
          [
           "Neal Maupay",
           0.5777607677304275,
           0.20766176219950833,
           0.33998192126484994,
           0.45235631653564173
          ]
         ],
         "hovertemplate": "color=#fdc527<br>XT=%{x}<br>YT=%{y}<br>size=%{marker.size}<br>Player=%{customdata[0]}<br>Total Rank=%{customdata[1]}<br>A=%{customdata[2]}<br>B=%{customdata[3]}<br>C=%{customdata[4]}<extra></extra>",
         "legendgroup": "#fdc527",
         "marker": {
          "color": "#FFA15A",
          "opacity": 1,
          "size": [
           355.8593029600287,
           339.3143488172712,
           317.76953577158804,
           315.28978469912045,
           311.9552315544019,
           309.55241071822786,
           308.82066400767036,
           291.41351268746223,
           287.95018512083254,
           286.02455518722115,
           285.3821986884443,
           274.31084396785474,
           274.22569081643945,
           270.1360567568362,
           265.4622655928868,
           263.91155287760336,
           261.86361027717965,
           246.71303131814446,
           245.0233880341438,
           238.41933922610957,
           229.75884330251282,
           225.75531739803276,
           225.06490502863494,
           224.56961069178618,
           207.2770367262238,
           159.7379492650643
          ],
          "sizemode": "area",
          "sizeref": 1.040390602923573,
          "symbol": "circle"
         },
         "mode": "markers",
         "name": "#fdc527",
         "orientation": "v",
         "showlegend": true,
         "type": "scatter",
         "x": [
          0.6262498549941637,
          0.3539426989795994,
          0.5260510952421089,
          0.5914652752120227,
          0.5306280230115625,
          0.5779468132909402,
          0.5749857353214188,
          0.5225637872065585,
          0.4808086886516263,
          0.4373788845741366,
          0.4723295928065162,
          0.5094246685007081,
          0.39793127101685544,
          0.4013501515374467,
          0.6943771353947719,
          0.4545394320669686,
          0.5999936435473784,
          0.5864728038584842,
          0.48268002871019655,
          0.4567901083861832,
          0.3200723575076265,
          0.6001571207779741,
          0.29749939852243185,
          0.4960824050606317,
          0.4658349456626783,
          0.4438128023646041
         ],
         "xaxis": "x",
         "y": [
          0.2794554650529151,
          0.31598253254843517,
          0.35382398684247995,
          0.3877192083071138,
          0.4503709682387434,
          0.2514020506251336,
          0.36169764638887486,
          0.2172255855220065,
          0.5091589360604759,
          0.29124127478034895,
          0.5032970596759012,
          0.544155776008226,
          0.284808461304428,
          0.31703527899234124,
          0.19991318779390807,
          0.4567228989284084,
          0.1480316101729286,
          0.3908341177368533,
          0.26775459319890665,
          0.29728942032096145,
          0.15290500092061313,
          0.2516668830253066,
          0.16812428136627713,
          0.4127022397470722,
          0.22249108162386655,
          0.17984036145941726
         ],
         "yaxis": "y"
        },
        {
         "customdata": [
          [
           "Diogo Jota",
           1.4116742126241513,
           0.35993010283344545,
           0.4762242469047216,
           0.16384565026183295
          ],
          [
           "Jesse Lingard",
           1.4034109518361486,
           0.4227284224515701,
           0.491493206602936,
           0.08577837094549381
          ],
          [
           "Riyad Mahrez",
           1.3998715551052472,
           0.5558152784825324,
           0.38815409562721737,
           0.05603062589025013
          ],
          [
           "Raheem Sterling",
           1.1677662278218515,
           0.47023774976910593,
           0.4432523528538795,
           0.08650989737701452
          ],
          [
           "Mohamed Salah",
           1.1252246550809,
           0.4715339456505885,
           0.4726016675678175,
           0.055864386781593986
          ],
          [
           "Roberto Firmino",
           1.094937149264246,
           0.4521356034648846,
           0.3867638868984984,
           0.1611005096366169
          ],
          [
           "Allan Saint-Maximin",
           1.092026156986787,
           0.6320800101105489,
           0.22571237607347283,
           0.14220761381597824
          ],
          [
           "Marcus Rashford",
           1.0450331176257637,
           0.4373927305775714,
           0.5331854591864554,
           0.02942181023597314
          ],
          [
           "Timo Werner",
           0.8686765071797217,
           0.3125226332291214,
           0.5349273837649148,
           0.15254998300596392
          ],
          [
           "Anthony Martial",
           0.7095228481055251,
           0.5455099326654376,
           0.45449006733456243,
           0
          ],
          [
           "Pierre-Emerick Aubameyang",
           0.6973687936737853,
           0.2953554475390528,
           0.603584805941325,
           0.10105974651962223
          ],
          [
           "Ryan Fraser",
           0.47379929955238775,
           0.6520827605140932,
           0.25975867420747223,
           0.08815856527843452
          ]
         ],
         "hovertemplate": "color=#4c02a1<br>XT=%{x}<br>YT=%{y}<br>size=%{marker.size}<br>Player=%{customdata[0]}<br>Total Rank=%{customdata[1]}<br>A=%{customdata[2]}<br>B=%{customdata[3]}<br>C=%{customdata[4]}<extra></extra>",
         "legendgroup": "#4c02a1",
         "marker": {
          "color": "#19d3f3",
          "opacity": 1,
          "size": [
           331.28189427649977,
           329.6977206703853,
           329.0186495167689,
           283.7500062970197,
           275.2812759209744,
           269.2161742491412,
           268.6316353501348,
           259.1550237414783,
           222.8526676388678,
           188.90983632674497,
           186.26346716712004,
           135.85134957601488
          ],
          "sizemode": "area",
          "sizeref": 1.040390602923573,
          "symbol": "circle"
         },
         "mode": "markers",
         "name": "#4c02a1",
         "orientation": "v",
         "showlegend": true,
         "type": "scatter",
         "x": [
          0.6561892983214443,
          0.7028574178287211,
          0.6660617348684837,
          0.6783712277384325,
          0.7083686403931118,
          0.6128316886309407,
          0.5417523811287472,
          0.7518818244752411,
          0.6911887003794753,
          0.7272450336672812,
          0.7512625297108514,
          0.5858000544645188
         ],
         "xaxis": "x",
         "y": [
          0.3117086126405091,
          0.3660935527447798,
          0.4813501509773954,
          0.40723783711847583,
          0.4083603756801204,
          0.3915609185559975,
          0.5473973459800602,
          0.3787932161108194,
          0.2706525396340258,
          0.4724254597050075,
          0.25578532071494176,
          0.5647202359750889
         ],
         "yaxis": "y"
        },
        {
         "customdata": [
          [
           "Hélder Costa",
           1.1548836226687849,
           0.08539235277498025,
           0.26744184932899084,
           0.6471657978960289
          ],
          [
           "Bertrand Traoré",
           1.0034226829032868,
           0.1655866628081021,
           0.4439021617700157,
           0.39051117542188213
          ],
          [
           "Alexandre Lacazette",
           0.8989704445024824,
           0.03649675081198029,
           0.5928906461041327,
           0.37061260308388694
          ],
          [
           "Jarrod Bowen",
           0.843816894095013,
           0.13989576099348053,
           0.5190857877857862,
           0.34101845122073327
          ],
          [
           "Ollie Watkins",
           0.7706969982668892,
           0.11734772017088979,
           0.6624054489260265,
           0.2202468309030838
          ],
          [
           "Che Adams",
           0.7545516746304148,
           0.08312432976575071,
           0.6295738287793465,
           0.28730184145490273
          ],
          [
           "Callum Robinson",
           0.68608450525665,
           0.14313162639341828,
           0.3106995280615897,
           0.546168845544992
          ],
          [
           "Sébastien Haller",
           0.5492173628849204,
           0.009897923202968905,
           0.38808506286869526,
           0.6020170139283357
          ],
          [
           "Josh Maja",
           0.39905233558343434,
           0.0029360757309220874,
           0.40143267429615465,
           0.5956312499729232
          ],
          [
           "Willian José",
           0.16617438375366572,
           0.0015150104430720812,
           0.28930932109387325,
           0.7091756684630546
          ]
         ],
         "hovertemplate": "color=#aa2395<br>XT=%{x}<br>YT=%{y}<br>size=%{marker.size}<br>Player=%{customdata[0]}<br>Total Rank=%{customdata[1]}<br>A=%{customdata[2]}<br>B=%{customdata[3]}<br>C=%{customdata[4]}<extra></extra>",
         "legendgroup": "#aa2395",
         "marker": {
          "color": "#FF6692",
          "opacity": 1,
          "size": [
           281.1915422165714,
           250.69843311507688,
           229.17819629142474,
           217.63158716318082,
           202.1067925903716,
           198.6431003885561,
           183.7988914340906,
           153.26468098634757,
           118.08160593632458,
           57.747507296851836
          ],
          "sizemode": "area",
          "sizeref": 1.040390602923573,
          "symbol": "circle"
         },
         "mode": "markers",
         "name": "#aa2395",
         "orientation": "v",
         "showlegend": true,
         "type": "scatter",
         "x": [
          0.31013802571648097,
          0.5266954931740667,
          0.6111390215101228,
          0.5890336682825265,
          0.7210793090114713,
          0.6711359936622219,
          0.3822653412582988,
          0.39303402447017977,
          0.40290071216161577,
          0.29006682631540937
         ],
         "xaxis": "x",
         "y": [
          0.0739519467920555,
          0.1434022565197043,
          0.03160711335876527,
          0.12115328290211029,
          0.10162610674417814,
          0.07198778124969508,
          0.12395562454168348,
          0.008571852938478512,
          0.002542716170413492,
          0.0013120375306991405
         ],
         "yaxis": "y"
        }
       ],
       "layout": {
        "annotations": [
         {
          "arrowcolor": "white",
          "arrowhead": 2,
          "arrowwidth": 5,
          "ax": 0.5,
          "axref": "x",
          "ay": 0,
          "ayref": "y",
          "opacity": 0.25,
          "showarrow": true,
          "text": "",
          "x": 0.5,
          "xref": "x",
          "y": 0.8660254037844386,
          "yref": "y"
         },
         {
          "arrowcolor": "white",
          "arrowhead": 2,
          "arrowwidth": 5,
          "ax": 0.25,
          "axref": "x",
          "ay": 0.4330127018922193,
          "ayref": "y",
          "opacity": 0.25,
          "showarrow": true,
          "text": "",
          "x": 1,
          "xref": "x",
          "y": 0,
          "yref": "y"
         },
         {
          "arrowcolor": "white",
          "arrowhead": 2,
          "arrowwidth": 5,
          "ax": 0.75,
          "axref": "x",
          "ay": 0.4330127018922193,
          "ayref": "y",
          "opacity": 0.25,
          "showarrow": true,
          "text": "",
          "x": 0,
          "xref": "x",
          "y": 0,
          "yref": "y"
         }
        ],
        "height": 1299.038105676658,
        "showlegend": false,
        "template": {
         "data": {
          "bar": [
           {
            "error_x": {
             "color": "#f2f5fa"
            },
            "error_y": {
             "color": "#f2f5fa"
            },
            "marker": {
             "line": {
              "color": "rgb(17,17,17)",
              "width": 0.5
             },
             "pattern": {
              "fillmode": "overlay",
              "size": 10,
              "solidity": 0.2
             }
            },
            "type": "bar"
           }
          ],
          "barpolar": [
           {
            "marker": {
             "line": {
              "color": "rgb(17,17,17)",
              "width": 0.5
             },
             "pattern": {
              "fillmode": "overlay",
              "size": 10,
              "solidity": 0.2
             }
            },
            "type": "barpolar"
           }
          ],
          "carpet": [
           {
            "aaxis": {
             "endlinecolor": "#A2B1C6",
             "gridcolor": "#506784",
             "linecolor": "#506784",
             "minorgridcolor": "#506784",
             "startlinecolor": "#A2B1C6"
            },
            "baxis": {
             "endlinecolor": "#A2B1C6",
             "gridcolor": "#506784",
             "linecolor": "#506784",
             "minorgridcolor": "#506784",
             "startlinecolor": "#A2B1C6"
            },
            "type": "carpet"
           }
          ],
          "choropleth": [
           {
            "colorbar": {
             "outlinewidth": 0,
             "ticks": ""
            },
            "type": "choropleth"
           }
          ],
          "contour": [
           {
            "colorbar": {
             "outlinewidth": 0,
             "ticks": ""
            },
            "colorscale": [
             [
              0,
              "#0d0887"
             ],
             [
              0.1111111111111111,
              "#46039f"
             ],
             [
              0.2222222222222222,
              "#7201a8"
             ],
             [
              0.3333333333333333,
              "#9c179e"
             ],
             [
              0.4444444444444444,
              "#bd3786"
             ],
             [
              0.5555555555555556,
              "#d8576b"
             ],
             [
              0.6666666666666666,
              "#ed7953"
             ],
             [
              0.7777777777777778,
              "#fb9f3a"
             ],
             [
              0.8888888888888888,
              "#fdca26"
             ],
             [
              1,
              "#f0f921"
             ]
            ],
            "type": "contour"
           }
          ],
          "contourcarpet": [
           {
            "colorbar": {
             "outlinewidth": 0,
             "ticks": ""
            },
            "type": "contourcarpet"
           }
          ],
          "heatmap": [
           {
            "colorbar": {
             "outlinewidth": 0,
             "ticks": ""
            },
            "colorscale": [
             [
              0,
              "#0d0887"
             ],
             [
              0.1111111111111111,
              "#46039f"
             ],
             [
              0.2222222222222222,
              "#7201a8"
             ],
             [
              0.3333333333333333,
              "#9c179e"
             ],
             [
              0.4444444444444444,
              "#bd3786"
             ],
             [
              0.5555555555555556,
              "#d8576b"
             ],
             [
              0.6666666666666666,
              "#ed7953"
             ],
             [
              0.7777777777777778,
              "#fb9f3a"
             ],
             [
              0.8888888888888888,
              "#fdca26"
             ],
             [
              1,
              "#f0f921"
             ]
            ],
            "type": "heatmap"
           }
          ],
          "heatmapgl": [
           {
            "colorbar": {
             "outlinewidth": 0,
             "ticks": ""
            },
            "colorscale": [
             [
              0,
              "#0d0887"
             ],
             [
              0.1111111111111111,
              "#46039f"
             ],
             [
              0.2222222222222222,
              "#7201a8"
             ],
             [
              0.3333333333333333,
              "#9c179e"
             ],
             [
              0.4444444444444444,
              "#bd3786"
             ],
             [
              0.5555555555555556,
              "#d8576b"
             ],
             [
              0.6666666666666666,
              "#ed7953"
             ],
             [
              0.7777777777777778,
              "#fb9f3a"
             ],
             [
              0.8888888888888888,
              "#fdca26"
             ],
             [
              1,
              "#f0f921"
             ]
            ],
            "type": "heatmapgl"
           }
          ],
          "histogram": [
           {
            "marker": {
             "pattern": {
              "fillmode": "overlay",
              "size": 10,
              "solidity": 0.2
             }
            },
            "type": "histogram"
           }
          ],
          "histogram2d": [
           {
            "colorbar": {
             "outlinewidth": 0,
             "ticks": ""
            },
            "colorscale": [
             [
              0,
              "#0d0887"
             ],
             [
              0.1111111111111111,
              "#46039f"
             ],
             [
              0.2222222222222222,
              "#7201a8"
             ],
             [
              0.3333333333333333,
              "#9c179e"
             ],
             [
              0.4444444444444444,
              "#bd3786"
             ],
             [
              0.5555555555555556,
              "#d8576b"
             ],
             [
              0.6666666666666666,
              "#ed7953"
             ],
             [
              0.7777777777777778,
              "#fb9f3a"
             ],
             [
              0.8888888888888888,
              "#fdca26"
             ],
             [
              1,
              "#f0f921"
             ]
            ],
            "type": "histogram2d"
           }
          ],
          "histogram2dcontour": [
           {
            "colorbar": {
             "outlinewidth": 0,
             "ticks": ""
            },
            "colorscale": [
             [
              0,
              "#0d0887"
             ],
             [
              0.1111111111111111,
              "#46039f"
             ],
             [
              0.2222222222222222,
              "#7201a8"
             ],
             [
              0.3333333333333333,
              "#9c179e"
             ],
             [
              0.4444444444444444,
              "#bd3786"
             ],
             [
              0.5555555555555556,
              "#d8576b"
             ],
             [
              0.6666666666666666,
              "#ed7953"
             ],
             [
              0.7777777777777778,
              "#fb9f3a"
             ],
             [
              0.8888888888888888,
              "#fdca26"
             ],
             [
              1,
              "#f0f921"
             ]
            ],
            "type": "histogram2dcontour"
           }
          ],
          "mesh3d": [
           {
            "colorbar": {
             "outlinewidth": 0,
             "ticks": ""
            },
            "type": "mesh3d"
           }
          ],
          "parcoords": [
           {
            "line": {
             "colorbar": {
              "outlinewidth": 0,
              "ticks": ""
             }
            },
            "type": "parcoords"
           }
          ],
          "pie": [
           {
            "automargin": true,
            "type": "pie"
           }
          ],
          "scatter": [
           {
            "marker": {
             "line": {
              "color": "#283442"
             }
            },
            "type": "scatter"
           }
          ],
          "scatter3d": [
           {
            "line": {
             "colorbar": {
              "outlinewidth": 0,
              "ticks": ""
             }
            },
            "marker": {
             "colorbar": {
              "outlinewidth": 0,
              "ticks": ""
             }
            },
            "type": "scatter3d"
           }
          ],
          "scattercarpet": [
           {
            "marker": {
             "colorbar": {
              "outlinewidth": 0,
              "ticks": ""
             }
            },
            "type": "scattercarpet"
           }
          ],
          "scattergeo": [
           {
            "marker": {
             "colorbar": {
              "outlinewidth": 0,
              "ticks": ""
             }
            },
            "type": "scattergeo"
           }
          ],
          "scattergl": [
           {
            "marker": {
             "line": {
              "color": "#283442"
             }
            },
            "type": "scattergl"
           }
          ],
          "scattermapbox": [
           {
            "marker": {
             "colorbar": {
              "outlinewidth": 0,
              "ticks": ""
             }
            },
            "type": "scattermapbox"
           }
          ],
          "scatterpolar": [
           {
            "marker": {
             "colorbar": {
              "outlinewidth": 0,
              "ticks": ""
             }
            },
            "type": "scatterpolar"
           }
          ],
          "scatterpolargl": [
           {
            "marker": {
             "colorbar": {
              "outlinewidth": 0,
              "ticks": ""
             }
            },
            "type": "scatterpolargl"
           }
          ],
          "scatterternary": [
           {
            "marker": {
             "colorbar": {
              "outlinewidth": 0,
              "ticks": ""
             }
            },
            "type": "scatterternary"
           }
          ],
          "surface": [
           {
            "colorbar": {
             "outlinewidth": 0,
             "ticks": ""
            },
            "colorscale": [
             [
              0,
              "#0d0887"
             ],
             [
              0.1111111111111111,
              "#46039f"
             ],
             [
              0.2222222222222222,
              "#7201a8"
             ],
             [
              0.3333333333333333,
              "#9c179e"
             ],
             [
              0.4444444444444444,
              "#bd3786"
             ],
             [
              0.5555555555555556,
              "#d8576b"
             ],
             [
              0.6666666666666666,
              "#ed7953"
             ],
             [
              0.7777777777777778,
              "#fb9f3a"
             ],
             [
              0.8888888888888888,
              "#fdca26"
             ],
             [
              1,
              "#f0f921"
             ]
            ],
            "type": "surface"
           }
          ],
          "table": [
           {
            "cells": {
             "fill": {
              "color": "#506784"
             },
             "line": {
              "color": "rgb(17,17,17)"
             }
            },
            "header": {
             "fill": {
              "color": "#2a3f5f"
             },
             "line": {
              "color": "rgb(17,17,17)"
             }
            },
            "type": "table"
           }
          ]
         },
         "layout": {
          "annotationdefaults": {
           "arrowcolor": "#f2f5fa",
           "arrowhead": 0,
           "arrowwidth": 1
          },
          "autotypenumbers": "strict",
          "coloraxis": {
           "colorbar": {
            "outlinewidth": 0,
            "ticks": ""
           }
          },
          "colorscale": {
           "diverging": [
            [
             0,
             "#8e0152"
            ],
            [
             0.1,
             "#c51b7d"
            ],
            [
             0.2,
             "#de77ae"
            ],
            [
             0.3,
             "#f1b6da"
            ],
            [
             0.4,
             "#fde0ef"
            ],
            [
             0.5,
             "#f7f7f7"
            ],
            [
             0.6,
             "#e6f5d0"
            ],
            [
             0.7,
             "#b8e186"
            ],
            [
             0.8,
             "#7fbc41"
            ],
            [
             0.9,
             "#4d9221"
            ],
            [
             1,
             "#276419"
            ]
           ],
           "sequential": [
            [
             0,
             "#0d0887"
            ],
            [
             0.1111111111111111,
             "#46039f"
            ],
            [
             0.2222222222222222,
             "#7201a8"
            ],
            [
             0.3333333333333333,
             "#9c179e"
            ],
            [
             0.4444444444444444,
             "#bd3786"
            ],
            [
             0.5555555555555556,
             "#d8576b"
            ],
            [
             0.6666666666666666,
             "#ed7953"
            ],
            [
             0.7777777777777778,
             "#fb9f3a"
            ],
            [
             0.8888888888888888,
             "#fdca26"
            ],
            [
             1,
             "#f0f921"
            ]
           ],
           "sequentialminus": [
            [
             0,
             "#0d0887"
            ],
            [
             0.1111111111111111,
             "#46039f"
            ],
            [
             0.2222222222222222,
             "#7201a8"
            ],
            [
             0.3333333333333333,
             "#9c179e"
            ],
            [
             0.4444444444444444,
             "#bd3786"
            ],
            [
             0.5555555555555556,
             "#d8576b"
            ],
            [
             0.6666666666666666,
             "#ed7953"
            ],
            [
             0.7777777777777778,
             "#fb9f3a"
            ],
            [
             0.8888888888888888,
             "#fdca26"
            ],
            [
             1,
             "#f0f921"
            ]
           ]
          },
          "colorway": [
           "#636efa",
           "#EF553B",
           "#00cc96",
           "#ab63fa",
           "#FFA15A",
           "#19d3f3",
           "#FF6692",
           "#B6E880",
           "#FF97FF",
           "#FECB52"
          ],
          "font": {
           "color": "#f2f5fa"
          },
          "geo": {
           "bgcolor": "rgb(17,17,17)",
           "lakecolor": "rgb(17,17,17)",
           "landcolor": "rgb(17,17,17)",
           "showlakes": true,
           "showland": true,
           "subunitcolor": "#506784"
          },
          "hoverlabel": {
           "align": "left"
          },
          "hovermode": "closest",
          "mapbox": {
           "style": "dark"
          },
          "paper_bgcolor": "rgb(17,17,17)",
          "plot_bgcolor": "rgb(17,17,17)",
          "polar": {
           "angularaxis": {
            "gridcolor": "#506784",
            "linecolor": "#506784",
            "ticks": ""
           },
           "bgcolor": "rgb(17,17,17)",
           "radialaxis": {
            "gridcolor": "#506784",
            "linecolor": "#506784",
            "ticks": ""
           }
          },
          "scene": {
           "xaxis": {
            "backgroundcolor": "rgb(17,17,17)",
            "gridcolor": "#506784",
            "gridwidth": 2,
            "linecolor": "#506784",
            "showbackground": true,
            "ticks": "",
            "zerolinecolor": "#C8D4E3"
           },
           "yaxis": {
            "backgroundcolor": "rgb(17,17,17)",
            "gridcolor": "#506784",
            "gridwidth": 2,
            "linecolor": "#506784",
            "showbackground": true,
            "ticks": "",
            "zerolinecolor": "#C8D4E3"
           },
           "zaxis": {
            "backgroundcolor": "rgb(17,17,17)",
            "gridcolor": "#506784",
            "gridwidth": 2,
            "linecolor": "#506784",
            "showbackground": true,
            "ticks": "",
            "zerolinecolor": "#C8D4E3"
           }
          },
          "shapedefaults": {
           "line": {
            "color": "#f2f5fa"
           }
          },
          "sliderdefaults": {
           "bgcolor": "#C8D4E3",
           "bordercolor": "rgb(17,17,17)",
           "borderwidth": 1,
           "tickwidth": 0
          },
          "ternary": {
           "aaxis": {
            "gridcolor": "#506784",
            "linecolor": "#506784",
            "ticks": ""
           },
           "baxis": {
            "gridcolor": "#506784",
            "linecolor": "#506784",
            "ticks": ""
           },
           "bgcolor": "rgb(17,17,17)",
           "caxis": {
            "gridcolor": "#506784",
            "linecolor": "#506784",
            "ticks": ""
           }
          },
          "title": {
           "x": 0.05
          },
          "updatemenudefaults": {
           "bgcolor": "#506784",
           "borderwidth": 0
          },
          "xaxis": {
           "automargin": true,
           "gridcolor": "#283442",
           "linecolor": "#506784",
           "ticks": "",
           "title": {
            "standoff": 15
           },
           "zerolinecolor": "#283442",
           "zerolinewidth": 2
          },
          "yaxis": {
           "automargin": true,
           "gridcolor": "#283442",
           "linecolor": "#506784",
           "ticks": "",
           "title": {
            "standoff": 15
           },
           "zerolinecolor": "#283442",
           "zerolinewidth": 2
          }
         }
        },
        "width": 1500,
        "xaxis": {
         "gridcolor": "LightPink",
         "gridwidth": 1,
         "range": [
          -0.25,
          1.25
         ],
         "showgrid": false,
         "visible": false,
         "zeroline": false
        },
        "yaxis": {
         "gridcolor": "LightPink",
         "gridwidth": 1,
         "range": [
          -0.25,
          1.0825317547305482
         ],
         "showgrid": false,
         "visible": false,
         "zeroline": false
        }
       }
      }
     },
     "metadata": {},
     "output_type": "display_data"
    }
   ],
   "source": [
    "smallfont = 18\n",
    "midfont = 22\n",
    "largefont = 28\n",
    "\n",
    "fig = go.Figure()\n",
    "fig.layout.template = 'plotly_dark'\n",
    "fig.update_layout(height=(math.sqrt(3)/2) * 1500, width=1500, showlegend=False)\n",
    "fig.add_trace(go.Scatter(x=[0, 0.5, 1, 0], y=[0, math.sqrt(3)/2, 0, 0], mode=\"lines\",\n",
    "                         name=\"Outer Triangle\", opacity=1, line_color='white', line_width=5))  # line=dict(color=\"#7F7F7F\")\n",
    "#fig.add_trace(go.Scatter(x=[0.5, 1, 0], y=[math.sqrt(3)/2, 0, 0], mode=\"markers+text\",name=\"Axes Markers\", text=[\"Pure A\", \"Pure B\", \"Pure C\"], textposition=\"top center\", textfont_size = 25))\n",
    "fig.add_trace(go.Scatter(x=[0.5], y=[math.sqrt(3)/2 + 0.02], mode=\"text\", name=\"Axes Markers\",\n",
    "                         text=['<br>'.join(textwrap.wrap(A_title, 15))], textposition=\"top center\", textfont_size=smallfont))\n",
    "fig.add_trace(go.Scatter(x=[1.02], y=[-0.02], mode=\"text\", name=\"Axes Markers\",\n",
    "                         text=['<br>'.join(textwrap.wrap(B_title, 15))], textposition=\"bottom right\", textfont_size=smallfont))\n",
    "fig.add_trace(go.Scatter(x=[-0.02], y=[-0.02], mode=\"text\", name=\"Axes Markers\",\n",
    "                         text=['<br>'.join(textwrap.wrap(C_title, 15))], textposition=\"bottom left\", textfont_size=smallfont))\n",
    "fig.add_trace(go.Scatter(x=[0.25 - 0.10], y=[math.sqrt(3)/4], mode=\"text\",\n",
    "                         name=\"Axes Markers\", text=[\"A + C\"], textposition=\"middle center\", textfont_size=smallfont))\n",
    "fig.add_trace(go.Scatter(x=[0.75 + 0.10], y=[math.sqrt(3)/4], mode=\"text\",\n",
    "                         name=\"Axes Markers\", text=[\"A + B\"], textposition=\"middle center\", textfont_size=smallfont))\n",
    "fig.add_trace(go.Scatter(x=[0.5], y=[0 - 0.025], mode=\"text\", name=\"Axes Markers\",\n",
    "                         text=[\"C + B\"], textposition=\"bottom center\", textfont_size=smallfont))\n",
    "fig.update_xaxes(range=[-0.25, 1.25], showgrid=False, zeroline=False,\n",
    "                 visible=False, gridwidth=1, gridcolor='LightPink')\n",
    "fig.update_yaxes(range=[-0.25, 1.25*math.sqrt(3)/2], showgrid=False,\n",
    "                 zeroline=False, visible=False, gridwidth=1, gridcolor='LightPink')\n",
    "\n",
    "arrow1 = go.layout.Annotation(dict(x=0.5, y=math.sqrt(3)/2, xref=\"x\", yref=\"y\", text=\"\", showarrow=True,\n",
    "                                   axref=\"x\", ayref='y', ax=0.5, ay=0, arrowhead=2, arrowwidth=5, opacity=0.25, arrowcolor='white'))\n",
    "arrow2 = go.layout.Annotation(dict(x=1, y=0, xref=\"x\", yref=\"y\", text=\"\", showarrow=True, axref=\"x\",\n",
    "                                   ayref='y', ax=0.25, ay=math.sqrt(3)/4, arrowhead=2, arrowwidth=5, opacity=0.25, arrowcolor='white'))\n",
    "arrow3 = go.layout.Annotation(dict(x=0, y=0, xref=\"x\", yref=\"y\", text=\"\", showarrow=True, axref=\"x\",\n",
    "                                   ayref='y', ax=0.75, ay=math.sqrt(3)/4, arrowhead=2, arrowwidth=5, opacity=0.25, arrowcolor='white'))\n",
    "fig.update_layout(annotations=[arrow1, arrow2, arrow3])\n",
    "\n",
    "fig.add_traces(list(px.scatter(df, x='XT', y='YT', color='color', opacity=1, hover_data=['Player', 'Total Rank', 'A', 'B', 'C'], size=markersizedef, template='plotly_dark').select_traces()))\n",
    "\n",
    "# fig.add_traces(list(px.scatter(df[df['Total Rank'] >= 1.5], x='XT', y='YT', color_discrete_sequence=['green'], opacity=1, hover_data=[\n",
    "#                'Player', 'Total Rank', 'A', 'B', 'C'], size='Total Rank', template='plotly_dark').select_traces()))\n",
    "# print(len(df))\n",
    "fig.show()\n"
   ]
  },
  {
   "cell_type": "code",
   "execution_count": 79,
   "metadata": {},
   "outputs": [],
   "source": [
    "# https://tousu.in/qa/?qa=830541/\n",
    "\n",
    "def rainbowarrow(ax, start, end, cmap=\"Greys\", n=50,lw=3):\n",
    "    cmap = plt.get_cmap(cmap,n)\n",
    "    # Arrow shaft: LineCollection\n",
    "    x = np.linspace(start[0],end[0],n)\n",
    "    y = np.linspace(start[1],end[1],n)\n",
    "    points = np.array([x,y]).T.reshape(-1,1,2)\n",
    "    segments = np.concatenate([points[:-1],points[1:]], axis=1)\n",
    "    lc = LineCollection(segments, cmap=cmap, linewidth=lw)\n",
    "    lc.set_array(np.linspace(0,1,n))\n",
    "    ax.add_collection(lc)\n",
    "    # Arrow head: Triangle\n",
    "    tricoords = [(0,-0.4),(0.5,0),(0,0.4),(0,-0.4)]\n",
    "    angle = np.arctan2(end[1]-start[1],end[0]-start[0])\n",
    "    rot = matplotlib.transforms.Affine2D().rotate(angle)\n",
    "    tricoords2 = rot.transform(tricoords)\n",
    "    tri = matplotlib.path.Path(tricoords2, closed=True)\n",
    "    ax.scatter(end[0],end[1], c=1, s=(2*lw)**2, marker=tri, cmap=cmap,vmin=0, zorder = 2)\n",
    "    ax.autoscale_view()"
   ]
  },
  {
   "cell_type": "code",
   "execution_count": 93,
   "metadata": {},
   "outputs": [],
   "source": [
    "# fix for overlapping gradient arrows\n",
    "scaling_factor = 0.005\n",
    "UnitV1 = tuple(scaling_factor*((np.array([0.5, math.sqrt(3)/2]) - np.array([0.5, 0])) / (math.dist((0.5, 0), (0.5, math.sqrt(3)/2)))))\n",
    "UnitV2 = tuple(scaling_factor*((np.array([0,0]) - np.array([0.75, math.sqrt(3)/4])) / (math.dist((0.75, math.sqrt(3)/4), (0,0)))))\n",
    "UnitV3 = tuple(scaling_factor*((np.array([1,0]) - np.array([0.25, math.sqrt(3)/4])) / (math.dist((0.25, math.sqrt(3)/4), (1,0)))))\n",
    "SP1 = [sum(x) for x in zip(UnitV1,(0.5, 0))]\n",
    "SP2 = [sum(x) for x in zip(UnitV2,(0.75, math.sqrt(3)/4))]\n",
    "SP3 = [sum(x) for x in zip(UnitV3,(0.25, math.sqrt(3)/4))]"
   ]
  },
  {
   "cell_type": "code",
   "execution_count": 95,
   "metadata": {},
   "outputs": [
    {
     "data": {
      "image/png": "[encoded data removed]",
      "text/plain": [
       "<Figure size 1440x1247.08 with 1 Axes>"
      ]
     },
     "metadata": {
      "needs_background": "light"
     },
     "output_type": "display_data"
    }
   ],
   "source": [
    "smallfont = 22\n",
    "midfont = 26\n",
    "largefont = 30\n",
    "%matplotlib inline\n",
    "\n",
    "fig, ax = plt.subplots(1, 1, figsize=(20, (math.sqrt(3)/2)*20))\n",
    "ax.set_facecolor('white')\n",
    "plt.xlim([-0.3, 1.3])\n",
    "plt.ylim([-0.3, 1.3*math.sqrt(3)/2])\n",
    "ax.scatter(x = df['XT'], y = df['YT'], s = markersizedef, color = df['color'],edgecolors='black',zorder=3)\n",
    "#ax.axline((0, 0), (0.5, math.sqrt(3)/2))\n",
    "ax.plot([0, 0.5, 1, 0],[0, math.sqrt(3)/2, 0, 0], zorder=2, color = '#7F7F7F', alpha = 0.25,  linewidth = 6)\n",
    "ax.set_aspect(\"equal\")\n",
    "rainbowarrow(ax, (SP1), (0.5, math.sqrt(3)/2), cmap=\"Greys\", n=100, lw=6)\n",
    "rainbowarrow(ax, (SP2), (0,0), cmap=\"Greys\", n=100, lw=6)\n",
    "rainbowarrow(ax, (SP3), (1,0), cmap=\"Greys\", n=100, lw=6)\n",
    "# ax.scatter(0.5, 0, zorder = 3, color = \"red\")\n",
    "# ax.scatter(0.75, math.sqrt(3)/4, zorder = 3, color = \"red\")\n",
    "# ax.scatter(0.25, math.sqrt(3)/4, zorder = 3, color = \"red\")\n",
    "\n",
    "\n",
    "Title_A = ax.text(x=0.5, y=math.sqrt(3)/2 + 0.02,s= A_title, va = 'bottom', ha = 'center', fontsize = smallfont, fontweight = 'bold', wrap=True)\n",
    "Title_A._get_wrap_line_width = lambda: 1000\n",
    "Title_B = ax.text(x=1.02, y= -0.02, s= B_title,va='top', ha='left', fontsize=smallfont, fontweight = 'bold', wrap=True)\n",
    "Title_B._get_wrap_line_width = lambda: 500\n",
    "Title_C = ax.text(x=-0.02, y=-0.02, s=C_title, va='top', ha='right',fontsize=smallfont, fontweight='bold', wrap=True)\n",
    "Title_C._get_wrap_line_width = lambda: 500\n",
    "\n",
    "Title_AnC = ax.text(x=0.25 - 0.25, y=math.sqrt(3)/4 ,s= A_title + ' & ' + C_title, va = 'center', ha = 'center', fontsize = smallfont, fontweight = 'bold', wrap=True)\n",
    "Title_AnC._get_wrap_line_width = lambda: 500\n",
    "Title_AnB = ax.text(x=0.75 + 0.25, y=math.sqrt(3)/4 ,s=A_title + ' & ' + B_title, va = 'center', ha = 'center', fontsize = smallfont, fontweight = 'bold', wrap=True)\n",
    "Title_AnB._get_wrap_line_width = lambda: 500\n",
    "Title_CnB = ax.text(x=0.5, y=-0.03, s=C_title + ' & ' + B_title, va='top', ha='center', fontsize=smallfont, fontweight='bold', wrap=True)\n",
    "Title_CnB._get_wrap_line_width = lambda: 1000\n",
    "\n",
    "# path_effects=[pe.Stroke(linewidth=2, foreground='black')]\n",
    "legend_elements = [Line2D([0], [0], marker='o', color='w', label='Lowest', markerfacecolor='orange', markeredgecolor = 'black', markersize=14),\n",
    "                   Line2D([0], [0], marker='o', color='w', label = '    $\\\\bf{\\u2193}$', markerfacecolor='orange', markeredgecolor= 'black', markersize=17),\n",
    "                   Line2D([0], [0], marker='o', color='w', label='Highest', markerfacecolor='orange', markeredgecolor= 'black' , markersize=20)]\n",
    "\n",
    "plt.axis(\"off\")\n",
    "ax.axes.xaxis.set_visible(False)\n",
    "ax.axes.yaxis.set_visible(False)\n",
    "ax.plot([-0.2, 1.2],[0.97, 0.97], zorder=2, color = 'black', alpha = 1,  linewidth = 6) # horizontal separator\n",
    "ax.legend(handles=legend_elements, bbox_to_anchor=(0.25, 0.725), prop={'size': 16}, frameon = True)\n",
    "ax.text(x= -0.003, y= 0.76 ,s=\"Total Rank\", va = 'top', ha = 'center', fontsize = smallfont, fontweight = 'bold')\n",
    "\n",
    "#my_suptitle = fig.suptitle('Ternary Plot 1', fontsize = largefont, fontweight = 'bold', y=0.92)\n",
    "plt.title('Ternary Plot: Playing Styles of Attackers, EPL, 2020-21', fontsize = largefont, fontweight = 'bold', y= 0.98, pad=-25)\n",
    "ax.text(x=0.5, y= 1.03,s=\"Min. 10 90s Played, data via FBref @msuatgunerli\", va = 'top', ha = 'center', fontsize = midfont)\n",
    "\n",
    "# for i in range(0, len(df)):\n",
    "#     ax.annotate(df['Player'].iloc[i].split(' ')[-1], (0.01+df['XT'].iloc[i], 0.01+df['YT'].iloc[i]), fontsize = 12, path_effects=[pe.withStroke(linewidth=2.5, foreground=\"white\")], zorder = 3)\n",
    "\n",
    "annotationlimiter = 50\n",
    "texts = [plt.text(df.head(annotationlimiter)['XT'].iloc[i], df.head(annotationlimiter)['YT'].iloc[i], df.head(annotationlimiter)['Player'].iloc[i].split(\n",
    "    ' ')[-1], fontsize=14, path_effects=[pe.withStroke(linewidth=2.5, foreground=\"white\")], zorder=3, ha='center', va='center') for i in range(len(df.head(annotationlimiter)))]\n",
    "adjust_text(texts, lim = 500, precision= 0.01)\n",
    "plt.tight_layout\n",
    "ax.add_patch(plt.Rectangle((0, 0), 1, 1, facecolor='white',transform=ax.transAxes, zorder=-1))\n",
    "plt.savefig('temp.png', transparent=False, dpi = 300) #bbox_extra_artists=[my_suptitle]#"
   ]
  },
  {
   "cell_type": "code",
   "execution_count": 82,
   "metadata": {},
   "outputs": [],
   "source": [
    "df1 = df[df['Player'].str.contains('Vidal')]"
   ]
  },
  {
   "cell_type": "code",
   "execution_count": 83,
   "metadata": {},
   "outputs": [
    {
     "data": {
      "text/html": [
       "<div>\n",
       "<style scoped>\n",
       "    .dataframe tbody tr th:only-of-type {\n",
       "        vertical-align: middle;\n",
       "    }\n",
       "\n",
       "    .dataframe tbody tr th {\n",
       "        vertical-align: top;\n",
       "    }\n",
       "\n",
       "    .dataframe thead th {\n",
       "        text-align: right;\n",
       "    }\n",
       "</style>\n",
       "<table border=\"1\" class=\"dataframe\">\n",
       "  <thead>\n",
       "    <tr style=\"text-align: right;\">\n",
       "      <th></th>\n",
       "      <th>Player_ID_Full</th>\n",
       "      <th>B</th>\n",
       "      <th>A</th>\n",
       "      <th>C</th>\n",
       "      <th>Pos</th>\n",
       "      <th>Player</th>\n",
       "      <th>Total Rank</th>\n",
       "      <th>A_bary</th>\n",
       "      <th>B_bary</th>\n",
       "      <th>C_bary</th>\n",
       "      <th>XT</th>\n",
       "      <th>YT</th>\n",
       "      <th>cluster</th>\n",
       "      <th>cen_x</th>\n",
       "      <th>cen_y</th>\n",
       "      <th>color</th>\n",
       "    </tr>\n",
       "  </thead>\n",
       "  <tbody>\n",
       "    <tr>\n",
       "      <th>16</th>\n",
       "      <td>Dominic Calvert-Lewin_ENG_FW_Everton_Premier L...</td>\n",
       "      <td>0.926919</td>\n",
       "      <td>0.025233</td>\n",
       "      <td>0.047848</td>\n",
       "      <td>FW</td>\n",
       "      <td>Dominic Calvert-Lewin</td>\n",
       "      <td>0.548108</td>\n",
       "      <td>0.025233</td>\n",
       "      <td>0.926919</td>\n",
       "      <td>0.047848</td>\n",
       "      <td>0.939535</td>\n",
       "      <td>0.021852</td>\n",
       "      <td>4</td>\n",
       "      <td>1.0</td>\n",
       "      <td>0.0</td>\n",
       "      <td>#e66c5c</td>\n",
       "    </tr>\n",
       "    <tr>\n",
       "      <th>94</th>\n",
       "      <td>Callum Wilson_ENG_FW_Newcastle Utd_Premier Lea...</td>\n",
       "      <td>0.904731</td>\n",
       "      <td>0.058038</td>\n",
       "      <td>0.037231</td>\n",
       "      <td>FW</td>\n",
       "      <td>Callum Wilson</td>\n",
       "      <td>0.642075</td>\n",
       "      <td>0.058038</td>\n",
       "      <td>0.904731</td>\n",
       "      <td>0.037231</td>\n",
       "      <td>0.933750</td>\n",
       "      <td>0.050262</td>\n",
       "      <td>4</td>\n",
       "      <td>1.0</td>\n",
       "      <td>0.0</td>\n",
       "      <td>#e66c5c</td>\n",
       "    </tr>\n",
       "    <tr>\n",
       "      <th>87</th>\n",
       "      <td>Jamie Vardy_ENG_FW_Leicester City_Premier Leag...</td>\n",
       "      <td>0.922680</td>\n",
       "      <td>0.021668</td>\n",
       "      <td>0.055652</td>\n",
       "      <td>FW</td>\n",
       "      <td>Jamie Vardy</td>\n",
       "      <td>0.561737</td>\n",
       "      <td>0.021668</td>\n",
       "      <td>0.922680</td>\n",
       "      <td>0.055652</td>\n",
       "      <td>0.933514</td>\n",
       "      <td>0.018765</td>\n",
       "      <td>4</td>\n",
       "      <td>1.0</td>\n",
       "      <td>0.0</td>\n",
       "      <td>#e66c5c</td>\n",
       "    </tr>\n",
       "    <tr>\n",
       "      <th>0</th>\n",
       "      <td>Tammy Abraham_ENG_FW_Chelsea_Premier League_22...</td>\n",
       "      <td>0.933116</td>\n",
       "      <td>0.000159</td>\n",
       "      <td>0.066725</td>\n",
       "      <td>FW</td>\n",
       "      <td>Tammy Abraham</td>\n",
       "      <td>0.615023</td>\n",
       "      <td>0.000159</td>\n",
       "      <td>0.933116</td>\n",
       "      <td>0.066725</td>\n",
       "      <td>0.933196</td>\n",
       "      <td>0.000138</td>\n",
       "      <td>4</td>\n",
       "      <td>1.0</td>\n",
       "      <td>0.0</td>\n",
       "      <td>#e66c5c</td>\n",
       "    </tr>\n",
       "    <tr>\n",
       "      <th>95</th>\n",
       "      <td>Chris Wood_NZL_FW_Burnley_Premier League_28_20...</td>\n",
       "      <td>0.924147</td>\n",
       "      <td>0.001047</td>\n",
       "      <td>0.074806</td>\n",
       "      <td>FW</td>\n",
       "      <td>Chris Wood</td>\n",
       "      <td>0.446309</td>\n",
       "      <td>0.001047</td>\n",
       "      <td>0.924147</td>\n",
       "      <td>0.074806</td>\n",
       "      <td>0.924670</td>\n",
       "      <td>0.000907</td>\n",
       "      <td>4</td>\n",
       "      <td>1.0</td>\n",
       "      <td>0.0</td>\n",
       "      <td>#e66c5c</td>\n",
       "    </tr>\n",
       "    <tr>\n",
       "      <th>...</th>\n",
       "      <td>...</td>\n",
       "      <td>...</td>\n",
       "      <td>...</td>\n",
       "      <td>...</td>\n",
       "      <td>...</td>\n",
       "      <td>...</td>\n",
       "      <td>...</td>\n",
       "      <td>...</td>\n",
       "      <td>...</td>\n",
       "      <td>...</td>\n",
       "      <td>...</td>\n",
       "      <td>...</td>\n",
       "      <td>...</td>\n",
       "      <td>...</td>\n",
       "      <td>...</td>\n",
       "      <td>...</td>\n",
       "    </tr>\n",
       "    <tr>\n",
       "      <th>82</th>\n",
       "      <td>Andros Townsend_ENG_MFFW_Crystal Palace_Premie...</td>\n",
       "      <td>0.030283</td>\n",
       "      <td>0.121750</td>\n",
       "      <td>0.847968</td>\n",
       "      <td>MFFW</td>\n",
       "      <td>Andros Townsend</td>\n",
       "      <td>1.567894</td>\n",
       "      <td>0.121750</td>\n",
       "      <td>0.030283</td>\n",
       "      <td>0.847968</td>\n",
       "      <td>0.091158</td>\n",
       "      <td>0.105438</td>\n",
       "      <td>5</td>\n",
       "      <td>0.0</td>\n",
       "      <td>0.0</td>\n",
       "      <td>#f89540</td>\n",
       "    </tr>\n",
       "    <tr>\n",
       "      <th>27</th>\n",
       "      <td>Karlan Grant_ENG_FWMF_West Brom_Premier League...</td>\n",
       "      <td>0.059830</td>\n",
       "      <td>0.048954</td>\n",
       "      <td>0.891216</td>\n",
       "      <td>FWMF</td>\n",
       "      <td>Karlan Grant</td>\n",
       "      <td>0.363091</td>\n",
       "      <td>0.048954</td>\n",
       "      <td>0.059830</td>\n",
       "      <td>0.891216</td>\n",
       "      <td>0.084307</td>\n",
       "      <td>0.042396</td>\n",
       "      <td>5</td>\n",
       "      <td>0.0</td>\n",
       "      <td>0.0</td>\n",
       "      <td>#f89540</td>\n",
       "    </tr>\n",
       "    <tr>\n",
       "      <th>21</th>\n",
       "      <td>Grady Diangana_ENG_MFFW_West Brom_Premier Leag...</td>\n",
       "      <td>0.004677</td>\n",
       "      <td>0.123972</td>\n",
       "      <td>0.871351</td>\n",
       "      <td>MFFW</td>\n",
       "      <td>Grady Diangana</td>\n",
       "      <td>1.091172</td>\n",
       "      <td>0.123972</td>\n",
       "      <td>0.004677</td>\n",
       "      <td>0.871351</td>\n",
       "      <td>0.066663</td>\n",
       "      <td>0.107363</td>\n",
       "      <td>5</td>\n",
       "      <td>0.0</td>\n",
       "      <td>0.0</td>\n",
       "      <td>#f89540</td>\n",
       "    </tr>\n",
       "    <tr>\n",
       "      <th>5</th>\n",
       "      <td>Jordan Ayew_GHA_FWMF_Crystal Palace_Premier Le...</td>\n",
       "      <td>0.030825</td>\n",
       "      <td>0.054023</td>\n",
       "      <td>0.915152</td>\n",
       "      <td>FWMF</td>\n",
       "      <td>Jordan Ayew</td>\n",
       "      <td>1.040424</td>\n",
       "      <td>0.054023</td>\n",
       "      <td>0.030825</td>\n",
       "      <td>0.915152</td>\n",
       "      <td>0.057836</td>\n",
       "      <td>0.046785</td>\n",
       "      <td>5</td>\n",
       "      <td>0.0</td>\n",
       "      <td>0.0</td>\n",
       "      <td>#f89540</td>\n",
       "    </tr>\n",
       "    <tr>\n",
       "      <th>14</th>\n",
       "      <td>Rhian Brewster_ENG_FW_Sheffield Utd_Premier Le...</td>\n",
       "      <td>0.000000</td>\n",
       "      <td>0.025121</td>\n",
       "      <td>0.974879</td>\n",
       "      <td>FW</td>\n",
       "      <td>Rhian Brewster</td>\n",
       "      <td>0.346028</td>\n",
       "      <td>0.025121</td>\n",
       "      <td>0.000000</td>\n",
       "      <td>0.974879</td>\n",
       "      <td>0.012561</td>\n",
       "      <td>0.021756</td>\n",
       "      <td>5</td>\n",
       "      <td>0.0</td>\n",
       "      <td>0.0</td>\n",
       "      <td>#f89540</td>\n",
       "    </tr>\n",
       "  </tbody>\n",
       "</table>\n",
       "<p>98 rows × 16 columns</p>\n",
       "</div>"
      ],
      "text/plain": [
       "                                       Player_ID_Full         B         A  \\\n",
       "16  Dominic Calvert-Lewin_ENG_FW_Everton_Premier L...  0.926919  0.025233   \n",
       "94  Callum Wilson_ENG_FW_Newcastle Utd_Premier Lea...  0.904731  0.058038   \n",
       "87  Jamie Vardy_ENG_FW_Leicester City_Premier Leag...  0.922680  0.021668   \n",
       "0   Tammy Abraham_ENG_FW_Chelsea_Premier League_22...  0.933116  0.000159   \n",
       "95  Chris Wood_NZL_FW_Burnley_Premier League_28_20...  0.924147  0.001047   \n",
       "..                                                ...       ...       ...   \n",
       "82  Andros Townsend_ENG_MFFW_Crystal Palace_Premie...  0.030283  0.121750   \n",
       "27  Karlan Grant_ENG_FWMF_West Brom_Premier League...  0.059830  0.048954   \n",
       "21  Grady Diangana_ENG_MFFW_West Brom_Premier Leag...  0.004677  0.123972   \n",
       "5   Jordan Ayew_GHA_FWMF_Crystal Palace_Premier Le...  0.030825  0.054023   \n",
       "14  Rhian Brewster_ENG_FW_Sheffield Utd_Premier Le...  0.000000  0.025121   \n",
       "\n",
       "           C   Pos                 Player  Total Rank    A_bary    B_bary  \\\n",
       "16  0.047848    FW  Dominic Calvert-Lewin    0.548108  0.025233  0.926919   \n",
       "94  0.037231    FW          Callum Wilson    0.642075  0.058038  0.904731   \n",
       "87  0.055652    FW            Jamie Vardy    0.561737  0.021668  0.922680   \n",
       "0   0.066725    FW          Tammy Abraham    0.615023  0.000159  0.933116   \n",
       "95  0.074806    FW             Chris Wood    0.446309  0.001047  0.924147   \n",
       "..       ...   ...                    ...         ...       ...       ...   \n",
       "82  0.847968  MFFW        Andros Townsend    1.567894  0.121750  0.030283   \n",
       "27  0.891216  FWMF           Karlan Grant    0.363091  0.048954  0.059830   \n",
       "21  0.871351  MFFW         Grady Diangana    1.091172  0.123972  0.004677   \n",
       "5   0.915152  FWMF            Jordan Ayew    1.040424  0.054023  0.030825   \n",
       "14  0.974879    FW         Rhian Brewster    0.346028  0.025121  0.000000   \n",
       "\n",
       "      C_bary        XT        YT  cluster  cen_x  cen_y    color  \n",
       "16  0.047848  0.939535  0.021852        4    1.0    0.0  #e66c5c  \n",
       "94  0.037231  0.933750  0.050262        4    1.0    0.0  #e66c5c  \n",
       "87  0.055652  0.933514  0.018765        4    1.0    0.0  #e66c5c  \n",
       "0   0.066725  0.933196  0.000138        4    1.0    0.0  #e66c5c  \n",
       "95  0.074806  0.924670  0.000907        4    1.0    0.0  #e66c5c  \n",
       "..       ...       ...       ...      ...    ...    ...      ...  \n",
       "82  0.847968  0.091158  0.105438        5    0.0    0.0  #f89540  \n",
       "27  0.891216  0.084307  0.042396        5    0.0    0.0  #f89540  \n",
       "21  0.871351  0.066663  0.107363        5    0.0    0.0  #f89540  \n",
       "5   0.915152  0.057836  0.046785        5    0.0    0.0  #f89540  \n",
       "14  0.974879  0.012561  0.021756        5    0.0    0.0  #f89540  \n",
       "\n",
       "[98 rows x 16 columns]"
      ]
     },
     "execution_count": 83,
     "metadata": {},
     "output_type": "execute_result"
    }
   ],
   "source": [
    "df.sort_values(by = 'XT', ascending= False)"
   ]
  },
  {
   "cell_type": "code",
   "execution_count": 84,
   "metadata": {},
   "outputs": [
    {
     "data": {
      "text/html": [
       "<div>\n",
       "<style scoped>\n",
       "    .dataframe tbody tr th:only-of-type {\n",
       "        vertical-align: middle;\n",
       "    }\n",
       "\n",
       "    .dataframe tbody tr th {\n",
       "        vertical-align: top;\n",
       "    }\n",
       "\n",
       "    .dataframe thead th {\n",
       "        text-align: right;\n",
       "    }\n",
       "</style>\n",
       "<table border=\"1\" class=\"dataframe\">\n",
       "  <thead>\n",
       "    <tr style=\"text-align: right;\">\n",
       "      <th></th>\n",
       "      <th>Player_ID_Full</th>\n",
       "      <th>B</th>\n",
       "      <th>A</th>\n",
       "      <th>C</th>\n",
       "      <th>Pos</th>\n",
       "      <th>Player</th>\n",
       "      <th>Total Rank</th>\n",
       "      <th>A_bary</th>\n",
       "      <th>B_bary</th>\n",
       "      <th>C_bary</th>\n",
       "      <th>XT</th>\n",
       "      <th>YT</th>\n",
       "      <th>cluster</th>\n",
       "      <th>cen_x</th>\n",
       "      <th>cen_y</th>\n",
       "      <th>color</th>\n",
       "    </tr>\n",
       "  </thead>\n",
       "  <tbody>\n",
       "    <tr>\n",
       "      <th>83</th>\n",
       "      <td>Adama Traoré_ESP_FW_Wolves_Premier League_24_2...</td>\n",
       "      <td>0.027224</td>\n",
       "      <td>0.814194</td>\n",
       "      <td>0.158582</td>\n",
       "      <td>FW</td>\n",
       "      <td>Adama Traoré</td>\n",
       "      <td>0.979140</td>\n",
       "      <td>0.814194</td>\n",
       "      <td>0.027224</td>\n",
       "      <td>0.158582</td>\n",
       "      <td>0.434321</td>\n",
       "      <td>0.705112</td>\n",
       "      <td>3</td>\n",
       "      <td>0.50</td>\n",
       "      <td>0.866025</td>\n",
       "      <td>#cc4778</td>\n",
       "    </tr>\n",
       "    <tr>\n",
       "      <th>28</th>\n",
       "      <td>Jack Grealish_ENG_FWMF_Aston Villa_Premier Lea...</td>\n",
       "      <td>0.197718</td>\n",
       "      <td>0.732094</td>\n",
       "      <td>0.070188</td>\n",
       "      <td>FWMF</td>\n",
       "      <td>Jack Grealish</td>\n",
       "      <td>1.829318</td>\n",
       "      <td>0.732094</td>\n",
       "      <td>0.197718</td>\n",
       "      <td>0.070188</td>\n",
       "      <td>0.563765</td>\n",
       "      <td>0.634012</td>\n",
       "      <td>3</td>\n",
       "      <td>0.50</td>\n",
       "      <td>0.866025</td>\n",
       "      <td>#cc4778</td>\n",
       "    </tr>\n",
       "    <tr>\n",
       "      <th>66</th>\n",
       "      <td>Christian Pulisic_USA_FWMF_Chelsea_Premier Lea...</td>\n",
       "      <td>0.115135</td>\n",
       "      <td>0.668183</td>\n",
       "      <td>0.216682</td>\n",
       "      <td>FWMF</td>\n",
       "      <td>Christian Pulisic</td>\n",
       "      <td>1.166991</td>\n",
       "      <td>0.668183</td>\n",
       "      <td>0.115135</td>\n",
       "      <td>0.216682</td>\n",
       "      <td>0.449226</td>\n",
       "      <td>0.578664</td>\n",
       "      <td>1</td>\n",
       "      <td>0.25</td>\n",
       "      <td>0.433013</td>\n",
       "      <td>#7e03a8</td>\n",
       "    </tr>\n",
       "    <tr>\n",
       "      <th>77</th>\n",
       "      <td>Bernardo Silva_POR_MFFW_Manchester City_Premie...</td>\n",
       "      <td>0.089094</td>\n",
       "      <td>0.661598</td>\n",
       "      <td>0.249308</td>\n",
       "      <td>MFFW</td>\n",
       "      <td>Bernardo Silva</td>\n",
       "      <td>1.487597</td>\n",
       "      <td>0.661598</td>\n",
       "      <td>0.089094</td>\n",
       "      <td>0.249308</td>\n",
       "      <td>0.419893</td>\n",
       "      <td>0.572961</td>\n",
       "      <td>1</td>\n",
       "      <td>0.25</td>\n",
       "      <td>0.433013</td>\n",
       "      <td>#7e03a8</td>\n",
       "    </tr>\n",
       "    <tr>\n",
       "      <th>25</th>\n",
       "      <td>Ryan Fraser_SCO_FWMF_Newcastle Utd_Premier Lea...</td>\n",
       "      <td>0.259759</td>\n",
       "      <td>0.652083</td>\n",
       "      <td>0.088159</td>\n",
       "      <td>FWMF</td>\n",
       "      <td>Ryan Fraser</td>\n",
       "      <td>0.473799</td>\n",
       "      <td>0.652083</td>\n",
       "      <td>0.259759</td>\n",
       "      <td>0.088159</td>\n",
       "      <td>0.585800</td>\n",
       "      <td>0.564720</td>\n",
       "      <td>0</td>\n",
       "      <td>0.75</td>\n",
       "      <td>0.433013</td>\n",
       "      <td>#4c02a1</td>\n",
       "    </tr>\n",
       "    <tr>\n",
       "      <th>...</th>\n",
       "      <td>...</td>\n",
       "      <td>...</td>\n",
       "      <td>...</td>\n",
       "      <td>...</td>\n",
       "      <td>...</td>\n",
       "      <td>...</td>\n",
       "      <td>...</td>\n",
       "      <td>...</td>\n",
       "      <td>...</td>\n",
       "      <td>...</td>\n",
       "      <td>...</td>\n",
       "      <td>...</td>\n",
       "      <td>...</td>\n",
       "      <td>...</td>\n",
       "      <td>...</td>\n",
       "      <td>...</td>\n",
       "    </tr>\n",
       "    <tr>\n",
       "      <th>39</th>\n",
       "      <td>Willian José_BRA_FW_Wolves_Premier League_28_2...</td>\n",
       "      <td>0.289309</td>\n",
       "      <td>0.001515</td>\n",
       "      <td>0.709176</td>\n",
       "      <td>FW</td>\n",
       "      <td>Willian José</td>\n",
       "      <td>0.166174</td>\n",
       "      <td>0.001515</td>\n",
       "      <td>0.289309</td>\n",
       "      <td>0.709176</td>\n",
       "      <td>0.290067</td>\n",
       "      <td>0.001312</td>\n",
       "      <td>2</td>\n",
       "      <td>0.50</td>\n",
       "      <td>0.000000</td>\n",
       "      <td>#aa2395</td>\n",
       "    </tr>\n",
       "    <tr>\n",
       "      <th>95</th>\n",
       "      <td>Chris Wood_NZL_FW_Burnley_Premier League_28_20...</td>\n",
       "      <td>0.924147</td>\n",
       "      <td>0.001047</td>\n",
       "      <td>0.074806</td>\n",
       "      <td>FW</td>\n",
       "      <td>Chris Wood</td>\n",
       "      <td>0.446309</td>\n",
       "      <td>0.001047</td>\n",
       "      <td>0.924147</td>\n",
       "      <td>0.074806</td>\n",
       "      <td>0.924670</td>\n",
       "      <td>0.000907</td>\n",
       "      <td>4</td>\n",
       "      <td>1.00</td>\n",
       "      <td>0.000000</td>\n",
       "      <td>#e66c5c</td>\n",
       "    </tr>\n",
       "    <tr>\n",
       "      <th>0</th>\n",
       "      <td>Tammy Abraham_ENG_FW_Chelsea_Premier League_22...</td>\n",
       "      <td>0.933116</td>\n",
       "      <td>0.000159</td>\n",
       "      <td>0.066725</td>\n",
       "      <td>FW</td>\n",
       "      <td>Tammy Abraham</td>\n",
       "      <td>0.615023</td>\n",
       "      <td>0.000159</td>\n",
       "      <td>0.933116</td>\n",
       "      <td>0.066725</td>\n",
       "      <td>0.933196</td>\n",
       "      <td>0.000138</td>\n",
       "      <td>4</td>\n",
       "      <td>1.00</td>\n",
       "      <td>0.000000</td>\n",
       "      <td>#e66c5c</td>\n",
       "    </tr>\n",
       "    <tr>\n",
       "      <th>20</th>\n",
       "      <td>Mbaye Diagne_SEN_FW_West Brom_Premier League_2...</td>\n",
       "      <td>0.889414</td>\n",
       "      <td>0.000003</td>\n",
       "      <td>0.110583</td>\n",
       "      <td>FW</td>\n",
       "      <td>Mbaye Diagne</td>\n",
       "      <td>0.405287</td>\n",
       "      <td>0.000003</td>\n",
       "      <td>0.889414</td>\n",
       "      <td>0.110583</td>\n",
       "      <td>0.889416</td>\n",
       "      <td>0.000003</td>\n",
       "      <td>4</td>\n",
       "      <td>1.00</td>\n",
       "      <td>0.000000</td>\n",
       "      <td>#e66c5c</td>\n",
       "    </tr>\n",
       "    <tr>\n",
       "      <th>18</th>\n",
       "      <td>Edinson Cavani_URU_FW_Manchester Utd_Premier L...</td>\n",
       "      <td>0.827999</td>\n",
       "      <td>0.000000</td>\n",
       "      <td>0.172001</td>\n",
       "      <td>FW</td>\n",
       "      <td>Edinson Cavani</td>\n",
       "      <td>0.974337</td>\n",
       "      <td>0.000000</td>\n",
       "      <td>0.827999</td>\n",
       "      <td>0.172001</td>\n",
       "      <td>0.827999</td>\n",
       "      <td>0.000000</td>\n",
       "      <td>4</td>\n",
       "      <td>1.00</td>\n",
       "      <td>0.000000</td>\n",
       "      <td>#e66c5c</td>\n",
       "    </tr>\n",
       "  </tbody>\n",
       "</table>\n",
       "<p>98 rows × 16 columns</p>\n",
       "</div>"
      ],
      "text/plain": [
       "                                       Player_ID_Full         B         A  \\\n",
       "83  Adama Traoré_ESP_FW_Wolves_Premier League_24_2...  0.027224  0.814194   \n",
       "28  Jack Grealish_ENG_FWMF_Aston Villa_Premier Lea...  0.197718  0.732094   \n",
       "66  Christian Pulisic_USA_FWMF_Chelsea_Premier Lea...  0.115135  0.668183   \n",
       "77  Bernardo Silva_POR_MFFW_Manchester City_Premie...  0.089094  0.661598   \n",
       "25  Ryan Fraser_SCO_FWMF_Newcastle Utd_Premier Lea...  0.259759  0.652083   \n",
       "..                                                ...       ...       ...   \n",
       "39  Willian José_BRA_FW_Wolves_Premier League_28_2...  0.289309  0.001515   \n",
       "95  Chris Wood_NZL_FW_Burnley_Premier League_28_20...  0.924147  0.001047   \n",
       "0   Tammy Abraham_ENG_FW_Chelsea_Premier League_22...  0.933116  0.000159   \n",
       "20  Mbaye Diagne_SEN_FW_West Brom_Premier League_2...  0.889414  0.000003   \n",
       "18  Edinson Cavani_URU_FW_Manchester Utd_Premier L...  0.827999  0.000000   \n",
       "\n",
       "           C   Pos             Player  Total Rank    A_bary    B_bary  \\\n",
       "83  0.158582    FW       Adama Traoré    0.979140  0.814194  0.027224   \n",
       "28  0.070188  FWMF      Jack Grealish    1.829318  0.732094  0.197718   \n",
       "66  0.216682  FWMF  Christian Pulisic    1.166991  0.668183  0.115135   \n",
       "77  0.249308  MFFW     Bernardo Silva    1.487597  0.661598  0.089094   \n",
       "25  0.088159  FWMF        Ryan Fraser    0.473799  0.652083  0.259759   \n",
       "..       ...   ...                ...         ...       ...       ...   \n",
       "39  0.709176    FW       Willian José    0.166174  0.001515  0.289309   \n",
       "95  0.074806    FW         Chris Wood    0.446309  0.001047  0.924147   \n",
       "0   0.066725    FW      Tammy Abraham    0.615023  0.000159  0.933116   \n",
       "20  0.110583    FW       Mbaye Diagne    0.405287  0.000003  0.889414   \n",
       "18  0.172001    FW     Edinson Cavani    0.974337  0.000000  0.827999   \n",
       "\n",
       "      C_bary        XT        YT  cluster  cen_x     cen_y    color  \n",
       "83  0.158582  0.434321  0.705112        3   0.50  0.866025  #cc4778  \n",
       "28  0.070188  0.563765  0.634012        3   0.50  0.866025  #cc4778  \n",
       "66  0.216682  0.449226  0.578664        1   0.25  0.433013  #7e03a8  \n",
       "77  0.249308  0.419893  0.572961        1   0.25  0.433013  #7e03a8  \n",
       "25  0.088159  0.585800  0.564720        0   0.75  0.433013  #4c02a1  \n",
       "..       ...       ...       ...      ...    ...       ...      ...  \n",
       "39  0.709176  0.290067  0.001312        2   0.50  0.000000  #aa2395  \n",
       "95  0.074806  0.924670  0.000907        4   1.00  0.000000  #e66c5c  \n",
       "0   0.066725  0.933196  0.000138        4   1.00  0.000000  #e66c5c  \n",
       "20  0.110583  0.889416  0.000003        4   1.00  0.000000  #e66c5c  \n",
       "18  0.172001  0.827999  0.000000        4   1.00  0.000000  #e66c5c  \n",
       "\n",
       "[98 rows x 16 columns]"
      ]
     },
     "execution_count": 84,
     "metadata": {},
     "output_type": "execute_result"
    }
   ],
   "source": [
    "df.sort_values(by = 'YT', ascending= False)"
   ]
  }
 ],
 "metadata": {
  "kernelspec": {
   "display_name": "Python 3.9.12 ('base')",
   "language": "python",
   "name": "python3"
  },
  "language_info": {
   "codemirror_mode": {
    "name": "ipython",
    "version": 3
   },
   "file_extension": ".py",
   "mimetype": "text/x-python",
   "name": "python",
   "nbconvert_exporter": "python",
   "pygments_lexer": "ipython3",
   "version": "3.9.12"
  },
  "orig_nbformat": 4,
  "vscode": {
   "interpreter": {
    "hash": "0fcb17038ab412b5344dce049ee19d8ebf8fac357a7ec4d19ee97540f8f3f6af"
   }
  }
 },
 "nbformat": 4,
 "nbformat_minor": 2
}
